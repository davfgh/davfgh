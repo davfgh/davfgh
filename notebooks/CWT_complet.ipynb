{
 "cells": [
  {
   "cell_type": "markdown",
   "id": "028c22bf",
   "metadata": {},
   "source": [
    "# Librairies et fichiers"
   ]
  },
  {
   "cell_type": "code",
   "execution_count": 1,
   "id": "eaf17b7d",
   "metadata": {},
   "outputs": [],
   "source": [
    "import numpy as np\n",
    "import pandas as pd\n",
    "\n",
    "import seaborn as sns\n",
    "import matplotlib.pyplot as plt\n",
    "%matplotlib inline\n",
    "\n",
    "import scipy\n",
    "from scipy import ndimage\n",
    "from scipy import signal\n",
    "from pylab import *\n",
    "import time\n",
    "import math\n",
    "import random \n",
    "\n",
    "import pywt\n",
    "import pywt.data\n",
    "\n",
    "from sklearn import linear_model\n",
    "from sklearn import preprocessing\n",
    "from sklearn.metrics import accuracy_score\n",
    "from sklearn.metrics import confusion_matrix\n",
    "from sklearn.model_selection import train_test_split\n",
    "\n",
    "# Pour importer le datasets mnist de Keras\n",
    "from tensorflow.keras.datasets.mnist import load_data\n",
    "\n",
    "\n",
    "import cv2\n",
    "\n",
    "from mpl_toolkits.mplot3d import Axes3D\n",
    "\n",
    "import os\n",
    "\n",
    "from copy import deepcopy"
   ]
  },
  {
   "cell_type": "code",
   "execution_count": 2,
   "id": "414d814f",
   "metadata": {},
   "outputs": [],
   "source": [
    "mit_train = pd.read_csv('mitbih_train.csv', header = None)\n",
    "mit_test = pd.read_csv('mitbih_test.csv', header = None)\n",
    "\n",
    "ptbdb_normal = pd.read_csv('ptbdb_normal.csv', header=None)\n",
    "ptbdb_abnormal = pd.read_csv('ptbdb_abnormal.csv', header=None)\n",
    "\n",
    "# constitution du jeu concaténation des jeux de donnée mitbih\n",
    "ptbdb = pd.concat([ptbdb_normal, ptbdb_abnormal])"
   ]
  },
  {
   "cell_type": "code",
   "execution_count": 3,
   "id": "72157afa",
   "metadata": {},
   "outputs": [],
   "source": [
    "X_ptb = ptbdb.iloc[:,:-1]\n",
    "X_test = mit_test.iloc[:,:-1]\n",
    "X_train = mit_train.iloc[:,:-1]\n",
    "y_ptb = ptbdb.iloc[:,-1]\n",
    "y_test = mit_test.iloc[:,-1]\n",
    "y_train = mit_train.iloc[:,-1]"
   ]
  },
  {
   "cell_type": "markdown",
   "id": "6ebc7503",
   "metadata": {},
   "source": [
    "# Fonctions"
   ]
  },
  {
   "cell_type": "code",
   "execution_count": 4,
   "id": "ebbc5593",
   "metadata": {},
   "outputs": [],
   "source": [
    "#isoler le dataframe signaux : suprimer les autres colonnes...\n",
    "\n",
    "def get_cwt_line (signaux, scale, wave, line):\n",
    "    # prend en entrée le jeu de données, une valeur d'échelle, un type d'ondelettes continues et une classe de signaux\n",
    "    # renvoie une matrice de wavelett continues correpondant à l'entrée numéro line\n",
    "    # attention, la dernière ligne de signaux contient le target\n",
    "    m=signaux.shape[1] # nombre de col\n",
    "    widths = np.arange(1,scale+1) # définie un intervalle à partir de l'échelle\n",
    "    cwtmatr, freqs = pywt.cwt(signaux, widths, wave)\n",
    "    return (signaux.iloc[line,:],freqs, cwtmatr[:,line,:-1])"
   ]
  },
  {
   "cell_type": "code",
   "execution_count": 5,
   "id": "7a058388",
   "metadata": {},
   "outputs": [],
   "source": [
    "def redim_array (original_array, width, height) :\n",
    "    # prend en entrée un array avec les des  dims avec lesquelles ont veut le redimentionner\n",
    "    # renvoie l'array redimentionné\n",
    "\n",
    "    resize_array = np.zeros(shape=(width,height))\n",
    "\n",
    "    for W in range(width):\n",
    "        for H in range(height):\n",
    "            new_width = int( W * original_array.shape[0] / width )\n",
    "            new_height = int( H * original_array.shape[1] / height )\n",
    "            resize_array[W][H] = original_array[new_width][new_height]\n",
    "\n",
    "    return(resize_array)"
   ]
  },
  {
   "cell_type": "markdown",
   "id": "f91bf992",
   "metadata": {},
   "source": [
    "# Selection des paramètres"
   ]
  },
  {
   "cell_type": "code",
   "execution_count": 6,
   "id": "195a2e5a",
   "metadata": {
    "scrolled": true
   },
   "outputs": [
    {
     "name": "stdout",
     "output_type": "stream",
     "text": [
      "['cgau1', 'cgau2', 'cgau3', 'cgau4', 'cgau5', 'cgau6', 'cgau7', 'cgau8', 'cmor', 'fbsp', 'gaus1', 'gaus2', 'gaus3', 'gaus4', 'gaus5', 'gaus6', 'gaus7', 'gaus8', 'mexh', 'morl', 'shan']\n"
     ]
    }
   ],
   "source": [
    "scale = 8 # échelle faible pour limiter le temps de calcul\n",
    "cw_type = 'mexh' # type d'ondelettes continues séléctionnable parmi la liste ci-dessous\n",
    "\n",
    "print(pywt.wavelist(kind='continuous'))"
   ]
  },
  {
   "cell_type": "markdown",
   "id": "7e209e0d",
   "metadata": {},
   "source": [
    "# Pre-Processing"
   ]
  },
  {
   "cell_type": "code",
   "execution_count": 7,
   "id": "e6cc8a67",
   "metadata": {},
   "outputs": [],
   "source": [
    "iMax = 20  #  641 lignes correspondant pour chaque valeur de cible \n",
    "#iMax=len(data_brut), il faudra trouver la valeur limite correcte pour toutes les valeurs de k\n",
    "n=5 #  5 vals possible pour target\n",
    "#prépparer le dataframe pour les résultats\n",
    "\n",
    "h = int(mit_train.shape[1]/2)\n",
    "width , height = scale, h #: dimension de l'image\n",
    "col = range(0, width*height+1)\n",
    "data_pre_ana = pd.DataFrame(columns = col)\n",
    "for k in range(0,n) :\n",
    " #   print(k)\n",
    "    data_brut = mit_train[mit_train.iloc[:,187]==k] # DataFrame d'entrée # DataFrame d'entrée\n",
    "\n",
    "    signaux=data_brut.iloc[:,:-1]  # Selectionner la partie signaux de 0 à 186 \n",
    "\n",
    "    #Boucle sur les lignes de data_brut\n",
    "    for i in range(0, iMax) :\n",
    "  #      print(i)\n",
    "        #Traiter par ondelette le signal (fonction get_cwt)\n",
    "\n",
    "        sig, freq, matr = get_cwt_line (signaux, scale, cw_type, i)\n",
    "        #Traiter la matrice pour l'inclure dans l'array de taille prédéfinie adaptée au code CNN \n",
    "        original_array = matr\n",
    "       # print(matr)\n",
    "        matr=redim_array(original_array, width, height)\n",
    "        matr_1D = matr.flatten()  # on transforme l amatrice en array 1D \n",
    "        # ajouter y à la fin de matr_1D, \n",
    "       # print(data_brut.shape[1])\n",
    "        y = data_brut.iloc[i,data_brut.shape[1]-1]\n",
    "        matr_y = np.append(matr_1D, y)\n",
    "        # Enregistrer dans data_pre_ana\n",
    "        a_series = pd.Series(matr_y)\n",
    "        data_pre_ana = data_pre_ana.append(a_series, ignore_index=True)"
   ]
  },
  {
   "cell_type": "code",
   "execution_count": 8,
   "id": "cf316c07",
   "metadata": {},
   "outputs": [],
   "source": [
    "dataTrain = data_pre_ana\n",
    "nomFicTrain = 'cwt_{}x{}x{}_{}_train.csv'.format(scale, h, iMax, cw_type)\n",
    "dataTrain.to_csv(nomFicTrain)"
   ]
  },
  {
   "cell_type": "code",
   "execution_count": 9,
   "id": "e2a0347c",
   "metadata": {},
   "outputs": [
    {
     "name": "stdout",
     "output_type": "stream",
     "text": [
      "Shape of X: (100, 752)\n",
      "Shape of y: (100,)\n"
     ]
    }
   ],
   "source": [
    "X_train = data_pre_ana.iloc[:,:-1]\n",
    "y_train = data_pre_ana.iloc[:,-1]\n",
    "# Shape of X_train and y_train\n",
    "\n",
    "print('Shape of X:', X_train.shape)\n",
    "print('Shape of y:', y_train.shape)"
   ]
  },
  {
   "cell_type": "code",
   "execution_count": 10,
   "id": "9f188358",
   "metadata": {},
   "outputs": [],
   "source": [
    "iMax = 5  # 128 lignes pour chaque valeur de cible \n",
    "#iMax=len(data_brut), il faudra trouver la valeur limite correcte pour toutes les valeurs de k\n",
    "n=5 #  5 vals possible pour target\n",
    "#prépparer le dataframe pour les résultats\n",
    "\n",
    "h = int(mit_test.shape[1]/2)\n",
    "width , height = scale, h #: dimension de l'image\n",
    "col = range(0, width*height+1)\n",
    "data_pre_ana = pd.DataFrame(columns = col)\n",
    "for k in range(0,n) :\n",
    " #   print(k)\n",
    "    data_brut = mit_test[mit_test.iloc[:,187]==k] # DataFrame d'entrée # DataFrame d'entrée\n",
    "\n",
    "    signaux=data_brut.iloc[:,:-1]  # Selectionner la partie signaux de 0 à 186 \n",
    "\n",
    "    #Boucle sur les lignes de data_brut\n",
    "    for i in range(0, iMax) :\n",
    "  #      print(i)\n",
    "        #Traiter par ondelette le signal (fonction get_cwt)\n",
    "\n",
    "        sig, freq, matr = get_cwt_line (signaux, scale, cw_type, i)\n",
    "        #Traiter la matrice pour l'inclure dans l'array de taille prédéfinie adaptée au code CNN \n",
    "        original_array = matr\n",
    "       # print(matr)\n",
    "        matr=redim_array(original_array, width, height)\n",
    "        matr_1D = matr.flatten()  # on transforme l amatrice en array 1D \n",
    "        # ajouter y à la fin de matr_1D, \n",
    "       # print(data_brut.shape[1])\n",
    "        y = data_brut.iloc[i,data_brut.shape[1]-1]\n",
    "        matr_y = np.append(matr_1D, y)\n",
    "        # Enregistrer dans data_pre_ana\n",
    "        a_series = pd.Series(matr_y)\n",
    "        data_pre_ana = data_pre_ana.append(a_series, ignore_index=True)"
   ]
  },
  {
   "cell_type": "code",
   "execution_count": 11,
   "id": "06d94c83",
   "metadata": {},
   "outputs": [],
   "source": [
    "dataTest = data_pre_ana\n",
    "nomFicTest = 'cwt_{}x{}x{}_{}_test.csv'.format(scale, h, iMax, cw_type)\n",
    "dataTest.to_csv(nomFicTest)"
   ]
  },
  {
   "cell_type": "code",
   "execution_count": 12,
   "id": "5ab1f05e",
   "metadata": {},
   "outputs": [
    {
     "name": "stdout",
     "output_type": "stream",
     "text": [
      "Shape of X: (25, 752)\n",
      "Shape of y: (25,)\n"
     ]
    }
   ],
   "source": [
    "X_test = data_pre_ana.iloc[:,:-1]\n",
    "y_test = data_pre_ana.iloc[:,-1]\n",
    "\n",
    "# Shape of X_train and y_train\n",
    "print('Shape of X:', X_test.shape)\n",
    "print('Shape of y:', y_test.shape)"
   ]
  },
  {
   "cell_type": "code",
   "execution_count": 13,
   "id": "5ec33f08",
   "metadata": {},
   "outputs": [],
   "source": [
    "X_train = X_train / 255\n",
    "X_test = X_test / 255"
   ]
  },
  {
   "cell_type": "code",
   "execution_count": 14,
   "id": "f993d2e0",
   "metadata": {},
   "outputs": [],
   "source": [
    "from tensorflow.keras.utils import to_categorical\n",
    "\n",
    "from tensorflow.keras.layers import Input, Dense # Pour construire un réseau de neurones et \n",
    "                                                 # instancier une couche d'entrée et une couche dense\n",
    "from tensorflow.keras.models import Model\n",
    "\n",
    "import itertools # Pour créer des iterateurs\n",
    "\n",
    "from sklearn import metrics # Pour évaluer les modèles"
   ]
  },
  {
   "cell_type": "code",
   "execution_count": 15,
   "id": "3465ae38",
   "metadata": {},
   "outputs": [],
   "source": [
    "y_train = to_categorical(y_train, dtype = 'int') \n",
    "y_test = to_categorical(y_test, dtype = 'int')   \n",
    "\n",
    "num_pixels = X_train.shape[1]\n",
    "num_classes = y_test.shape[1]"
   ]
  },
  {
   "cell_type": "markdown",
   "id": "42382aca",
   "metadata": {},
   "source": [
    "# Modélisation"
   ]
  },
  {
   "cell_type": "code",
   "execution_count": 16,
   "id": "2779b22b",
   "metadata": {},
   "outputs": [],
   "source": [
    "inputs = Input(shape = num_pixels, name = \"Input\")\n",
    "\n",
    "dense1 = Dense(units = 20, activation = \"tanh\",kernel_initializer ='normal', name = \"Dense_1\")\n",
    "dense2 = Dense(units = num_classes, activation = \"softmax\",kernel_initializer ='normal', name = \"Dense_2\")\n",
    "\n",
    "x=dense1(inputs)\n",
    "\n",
    "outputs=dense2(x)\n",
    "\n",
    "model = Model(inputs = inputs, outputs = outputs)"
   ]
  },
  {
   "cell_type": "code",
   "execution_count": 17,
   "id": "1826283e",
   "metadata": {},
   "outputs": [],
   "source": [
    "# compilation du modele\n",
    "model.compile(loss = 'categorical_crossentropy',  # fonction de perte\n",
    "              optimizer = 'adam',                 # algorithme d'optimisation\n",
    "              metrics = ['accuracy'])             # métrique d'évaluation"
   ]
  },
  {
   "cell_type": "code",
   "execution_count": 18,
   "id": "04eb8a2e",
   "metadata": {},
   "outputs": [
    {
     "name": "stdout",
     "output_type": "stream",
     "text": [
      "Epoch 1/20\n",
      "1/1 [==============================] - 0s 367ms/step - loss: 1.6094 - accuracy: 0.3125 - val_loss: 1.6116 - val_accuracy: 0.0000e+00\n",
      "Epoch 2/20\n",
      "1/1 [==============================] - 0s 18ms/step - loss: 1.6088 - accuracy: 0.3875 - val_loss: 1.6138 - val_accuracy: 0.0000e+00\n",
      "Epoch 3/20\n",
      "1/1 [==============================] - 0s 19ms/step - loss: 1.6082 - accuracy: 0.3625 - val_loss: 1.6160 - val_accuracy: 0.0000e+00\n",
      "Epoch 4/20\n",
      "1/1 [==============================] - 0s 18ms/step - loss: 1.6075 - accuracy: 0.3500 - val_loss: 1.6183 - val_accuracy: 0.0000e+00\n",
      "Epoch 5/20\n",
      "1/1 [==============================] - 0s 19ms/step - loss: 1.6069 - accuracy: 0.3375 - val_loss: 1.6207 - val_accuracy: 0.0000e+00\n",
      "Epoch 6/20\n",
      "1/1 [==============================] - 0s 19ms/step - loss: 1.6063 - accuracy: 0.3375 - val_loss: 1.6231 - val_accuracy: 0.0000e+00\n",
      "Epoch 7/20\n",
      "1/1 [==============================] - 0s 19ms/step - loss: 1.6056 - accuracy: 0.3375 - val_loss: 1.6256 - val_accuracy: 0.0000e+00\n",
      "Epoch 8/20\n",
      "1/1 [==============================] - 0s 19ms/step - loss: 1.6049 - accuracy: 0.3375 - val_loss: 1.6282 - val_accuracy: 0.0000e+00\n",
      "Epoch 9/20\n",
      "1/1 [==============================] - 0s 18ms/step - loss: 1.6042 - accuracy: 0.3375 - val_loss: 1.6308 - val_accuracy: 0.0000e+00\n",
      "Epoch 10/20\n",
      "1/1 [==============================] - 0s 17ms/step - loss: 1.6035 - accuracy: 0.3375 - val_loss: 1.6335 - val_accuracy: 0.0000e+00\n",
      "Epoch 11/20\n",
      "1/1 [==============================] - 0s 18ms/step - loss: 1.6028 - accuracy: 0.3375 - val_loss: 1.6363 - val_accuracy: 0.0000e+00\n",
      "Epoch 12/20\n",
      "1/1 [==============================] - 0s 18ms/step - loss: 1.6021 - accuracy: 0.3375 - val_loss: 1.6392 - val_accuracy: 0.0000e+00\n",
      "Epoch 13/20\n",
      "1/1 [==============================] - 0s 18ms/step - loss: 1.6013 - accuracy: 0.3375 - val_loss: 1.6421 - val_accuracy: 0.0000e+00\n",
      "Epoch 14/20\n",
      "1/1 [==============================] - 0s 18ms/step - loss: 1.6005 - accuracy: 0.3375 - val_loss: 1.6452 - val_accuracy: 0.0000e+00\n",
      "Epoch 15/20\n",
      "1/1 [==============================] - 0s 18ms/step - loss: 1.5997 - accuracy: 0.3375 - val_loss: 1.6483 - val_accuracy: 0.0000e+00\n",
      "Epoch 16/20\n",
      "1/1 [==============================] - 0s 18ms/step - loss: 1.5989 - accuracy: 0.3375 - val_loss: 1.6515 - val_accuracy: 0.0000e+00\n",
      "Epoch 17/20\n",
      "1/1 [==============================] - 0s 19ms/step - loss: 1.5981 - accuracy: 0.3375 - val_loss: 1.6548 - val_accuracy: 0.0000e+00\n",
      "Epoch 18/20\n",
      "1/1 [==============================] - 0s 18ms/step - loss: 1.5972 - accuracy: 0.3375 - val_loss: 1.6582 - val_accuracy: 0.0000e+00\n",
      "Epoch 19/20\n",
      "1/1 [==============================] - 0s 18ms/step - loss: 1.5963 - accuracy: 0.3375 - val_loss: 1.6618 - val_accuracy: 0.0000e+00\n",
      "Epoch 20/20\n",
      "1/1 [==============================] - 0s 18ms/step - loss: 1.5954 - accuracy: 0.3375 - val_loss: 1.6654 - val_accuracy: 0.0000e+00\n"
     ]
    }
   ],
   "source": [
    "# entrainement du modèle\n",
    "training_history = model.fit(X_train, y_train,          # données d'entraînement\n",
    "                             epochs = 20,               # nombre d'epochs\n",
    "                             batch_size = 200,          # taille des batchs\n",
    "                             validation_split = 0.2)    # proportion de l'échantillon de test"
   ]
  },
  {
   "cell_type": "code",
   "execution_count": 19,
   "id": "6f6f2f27",
   "metadata": {},
   "outputs": [],
   "source": [
    "# stockage des précisions d'entraînement et de test obtenues pendant l'entraînement\n",
    "train_acc = training_history.history['accuracy']\n",
    "val_acc = training_history.history['val_accuracy']"
   ]
  },
  {
   "cell_type": "code",
   "execution_count": 21,
   "id": "44c92ac4",
   "metadata": {},
   "outputs": [
    {
     "data": {
      "image/png": "[encoded data removed]",
      "text/plain": [
       "<Figure size 432x288 with 1 Axes>"
      ]
     },
     "metadata": {
      "needs_background": "light"
     },
     "output_type": "display_data"
    }
   ],
   "source": [
    "# Labels des axes\n",
    "plt.xlabel('Epochs')\n",
    "plt.ylabel('Accuracy')\n",
    "\n",
    "# Courbe de la précision sur l'échantillon d'entrainement\n",
    "plt.plot(np.arange(1 , 21, 1),\n",
    "         training_history.history['accuracy'],\n",
    "         label = 'Training Accuracy',\n",
    "         color = 'blue')\n",
    "\n",
    "# Courbe de la précision sur l'échantillon de test\n",
    "plt.plot(np.arange(1 , 21, 1),\n",
    "         training_history.history['val_accuracy'], \n",
    "         label = 'Validation Accuracy',\n",
    "         color = 'red')\n",
    "\n",
    "# Affichage de la légende\n",
    "plt.legend()\n",
    "\n",
    "# Affichage de la figure\n",
    "plt.show()"
   ]
  },
  {
   "cell_type": "markdown",
   "id": "484e42a7",
   "metadata": {},
   "source": [
    "# Prédictions"
   ]
  },
  {
   "cell_type": "code",
   "execution_count": 22,
   "id": "110b0a20",
   "metadata": {},
   "outputs": [
    {
     "name": "stdout",
     "output_type": "stream",
     "text": [
      "1/1 [==============================] - 0s 15ms/step - loss: 1.6093 - accuracy: 0.2000\n"
     ]
    },
    {
     "data": {
      "text/plain": [
       "[1.609269618988037, 0.20000000298023224]"
      ]
     },
     "execution_count": 22,
     "metadata": {},
     "output_type": "execute_result"
    }
   ],
   "source": [
    "# Prediction de l'échantillon de test\n",
    "test_pred = model.predict(X_test)\n",
    "\n",
    "# Evaluation du modèle\n",
    "score = model.evaluate(X_test, y_test)\n",
    "score"
   ]
  },
  {
   "cell_type": "code",
   "execution_count": 23,
   "id": "399f659b",
   "metadata": {},
   "outputs": [
    {
     "name": "stdout",
     "output_type": "stream",
     "text": [
      "              precision    recall  f1-score   support\n",
      "\n",
      "           0       0.00      0.00      0.00         5\n",
      "           1       0.00      0.00      0.00         5\n",
      "           2       0.50      0.20      0.29         5\n",
      "           3       0.17      0.80      0.29         5\n",
      "           4       0.00      0.00      0.00         5\n",
      "\n",
      "    accuracy                           0.20        25\n",
      "   macro avg       0.13      0.20      0.11        25\n",
      "weighted avg       0.13      0.20      0.11        25\n",
      "\n"
     ]
    },
    {
     "name": "stderr",
     "output_type": "stream",
     "text": [
      "C:\\ProgramData\\Anaconda3\\lib\\site-packages\\sklearn\\metrics\\_classification.py:1318: UndefinedMetricWarning: Precision and F-score are ill-defined and being set to 0.0 in labels with no predicted samples. Use `zero_division` parameter to control this behavior.\n",
      "  _warn_prf(average, modifier, msg_start, len(result))\n",
      "C:\\ProgramData\\Anaconda3\\lib\\site-packages\\sklearn\\metrics\\_classification.py:1318: UndefinedMetricWarning: Precision and F-score are ill-defined and being set to 0.0 in labels with no predicted samples. Use `zero_division` parameter to control this behavior.\n",
      "  _warn_prf(average, modifier, msg_start, len(result))\n",
      "C:\\ProgramData\\Anaconda3\\lib\\site-packages\\sklearn\\metrics\\_classification.py:1318: UndefinedMetricWarning: Precision and F-score are ill-defined and being set to 0.0 in labels with no predicted samples. Use `zero_division` parameter to control this behavior.\n",
      "  _warn_prf(average, modifier, msg_start, len(result))\n"
     ]
    }
   ],
   "source": [
    "# prédiction des classes de l'échantillon X_test\n",
    "test_pred = model.predict(X_test)\n",
    "\n",
    "# vecteurs d'entiers correspondant aux classes prédites et réelles\n",
    "test_pred_class = test_pred.argmax(axis = 1)\n",
    "y_test_class = y_test.argmax(axis = 1)\n",
    "\n",
    "# compte-rendu évaluatif détaillé de la perfomance du modèle\n",
    "print(metrics.classification_report(y_test_class, test_pred_class))"
   ]
  },
  {
   "cell_type": "markdown",
   "id": "4af72e75",
   "metadata": {},
   "source": [
    "# Evaluation"
   ]
  },
  {
   "cell_type": "code",
   "execution_count": 25,
   "id": "86ffd2b0",
   "metadata": {},
   "outputs": [
    {
     "data": {
      "image/png": "[encoded data removed]",
      "text/plain": [
       "<Figure size 432x288 with 2 Axes>"
      ]
     },
     "metadata": {
      "needs_background": "light"
     },
     "output_type": "display_data"
    }
   ],
   "source": [
    "# Matrice de confusion\n",
    "\n",
    "classes = range(0,5)\n",
    "\n",
    "plt.figure()\n",
    "\n",
    "plt.imshow(cnf_matrix, interpolation='nearest',cmap='Blues')\n",
    "plt.title(\"Matrice de confusion\")\n",
    "plt.colorbar()\n",
    "tick_marks = np.arange(len(classes))\n",
    "plt.xticks(tick_marks, classes)\n",
    "plt.yticks(tick_marks, classes)\n",
    "\n",
    "for i, j in itertools.product(range(cnf_matrix.shape[0]), range(cnf_matrix.shape[1])):\n",
    "    plt.text(j, i, cnf_matrix[i, j],\n",
    "             horizontalalignment=\"center\",\n",
    "             color=\"white\" if cnf_matrix[i, j] > ( cnf_matrix.max() / 2) else \"black\")\n",
    "\n",
    "plt.ylabel('Vrais labels')\n",
    "plt.xlabel('Labels prédits')\n",
    "plt.show()"
   ]
  }
 ],
 "metadata": {
  "kernelspec": {
   "display_name": "Python 3",
   "language": "python",
   "name": "python3"
  },
  "language_info": {
   "codemirror_mode": {
    "name": "ipython",
    "version": 3
   },
   "file_extension": ".py",
   "mimetype": "text/x-python",
   "name": "python",
   "nbconvert_exporter": "python",
   "pygments_lexer": "ipython3",
   "version": "3.8.8"
  }
 },
 "nbformat": 4,
 "nbformat_minor": 5
}
