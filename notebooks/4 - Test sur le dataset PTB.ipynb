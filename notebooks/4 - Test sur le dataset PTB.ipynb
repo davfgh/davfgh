{
 "cells": [
  {
   "cell_type": "markdown",
   "id": "ff27f707",
   "metadata": {},
   "source": [
    "# Test sur le dataset PTB"
   ]
  },
  {
   "cell_type": "code",
   "execution_count": 1,
   "id": "0d143251",
   "metadata": {},
   "outputs": [],
   "source": [
    "from tensorflow import keras\n",
    "import pandas as pd\n",
    "import matplotlib.pyplot as plt\n",
    "from random import choice\n",
    "from sklearn.metrics import classification_report\n",
    "import seaborn as sns\n",
    "import numpy as np\n",
    "from tensorflow.keras.layers import Input, Dense, Dropout, Flatten, Conv1D, MaxPooling1D\n",
    "from tensorflow.keras.models import Model\n",
    "from tensorflow.keras.utils import to_categorical"
   ]
  },
  {
   "cell_type": "code",
   "execution_count": 2,
   "id": "b17548d9",
   "metadata": {},
   "outputs": [],
   "source": [
    "ptbdb_normal = pd.read_csv(\"../data/ptbdb_normal.csv\", header=None)\n",
    "ptbdb_abnormal = pd.read_csv(\"../data/ptbdb_abnormal.csv\", header=None)\n",
    "\n",
    "ptbdb = pd.concat([ptbdb_normal, ptbdb_abnormal]).sample(frac=1).reset_index(drop=True)\n",
    "X_ptb = ptbdb.iloc[:,:-1]\n",
    "y_ptb = ptbdb.iloc[:,-1]\n",
    "y_ptb = to_categorical(y_ptb)"
   ]
  },
  {
   "cell_type": "code",
   "execution_count": 3,
   "id": "e5a53d58",
   "metadata": {},
   "outputs": [],
   "source": [
    "CNN_1 = keras.models.load_model(\"../models/CNN_1\")"
   ]
  },
  {
   "cell_type": "code",
   "execution_count": 4,
   "id": "cd479c6e",
   "metadata": {},
   "outputs": [],
   "source": [
    "CNN_predict_ptb = CNN_1.predict(X_ptb).argmax(1)"
   ]
  },
  {
   "cell_type": "code",
   "execution_count": 5,
   "id": "0868aab9",
   "metadata": {},
   "outputs": [],
   "source": [
    "CNN_predict_ptb = np.where((CNN_predict_ptb == 2)|(CNN_predict_ptb == 3)|(CNN_predict_ptb == 4), 1, CNN_predict_ptb)"
   ]
  },
  {
   "cell_type": "code",
   "execution_count": 6,
   "id": "b19baafa",
   "metadata": {},
   "outputs": [],
   "source": [
    "CNN_predict_ptb = pd.Series(CNN_predict_ptb)"
   ]
  },
  {
   "cell_type": "code",
   "execution_count": 7,
   "id": "87b58d83",
   "metadata": {},
   "outputs": [],
   "source": [
    "y_ptb = pd.Series(y_ptb.argmax(1))"
   ]
  },
  {
   "cell_type": "code",
   "execution_count": 8,
   "id": "4cf7d7de",
   "metadata": {},
   "outputs": [
    {
     "data": {
      "text/html": [
       "<div>\n",
       "<style scoped>\n",
       "    .dataframe tbody tr th:only-of-type {\n",
       "        vertical-align: middle;\n",
       "    }\n",
       "\n",
       "    .dataframe tbody tr th {\n",
       "        vertical-align: top;\n",
       "    }\n",
       "\n",
       "    .dataframe thead th {\n",
       "        text-align: right;\n",
       "    }\n",
       "</style>\n",
       "<table border=\"1\" class=\"dataframe\">\n",
       "  <thead>\n",
       "    <tr style=\"text-align: right;\">\n",
       "      <th>predict</th>\n",
       "      <th>0</th>\n",
       "      <th>1</th>\n",
       "    </tr>\n",
       "    <tr>\n",
       "      <th>reel</th>\n",
       "      <th></th>\n",
       "      <th></th>\n",
       "    </tr>\n",
       "  </thead>\n",
       "  <tbody>\n",
       "    <tr>\n",
       "      <th>0</th>\n",
       "      <td>3881</td>\n",
       "      <td>165</td>\n",
       "    </tr>\n",
       "    <tr>\n",
       "      <th>1</th>\n",
       "      <td>8911</td>\n",
       "      <td>1595</td>\n",
       "    </tr>\n",
       "  </tbody>\n",
       "</table>\n",
       "</div>"
      ],
      "text/plain": [
       "predict     0     1\n",
       "reel               \n",
       "0        3881   165\n",
       "1        8911  1595"
      ]
     },
     "execution_count": 8,
     "metadata": {},
     "output_type": "execute_result"
    }
   ],
   "source": [
    "pd.crosstab(y_ptb, CNN_predict_ptb, rownames = [\"reel\"], colnames= [\"predict\"]) "
   ]
  },
  {
   "cell_type": "code",
   "execution_count": 9,
   "id": "97b23135",
   "metadata": {},
   "outputs": [
    {
     "name": "stdout",
     "output_type": "stream",
     "text": [
      "              precision    recall  f1-score   support\n",
      "\n",
      "           0       0.30      0.96      0.46      4046\n",
      "           1       0.91      0.15      0.26     10506\n",
      "\n",
      "    accuracy                           0.38     14552\n",
      "   macro avg       0.60      0.56      0.36     14552\n",
      "weighted avg       0.74      0.38      0.32     14552\n",
      "\n"
     ]
    }
   ],
   "source": [
    "print(classification_report(y_ptb, CNN_predict_ptb))"
   ]
  },
  {
   "cell_type": "markdown",
   "id": "0bc07cb4",
   "metadata": {},
   "source": [
    "Lorsqu'on teste le modèle tel quel, nous observons un très mauvais rappel. Regardons des exemples d'ECG bien classés et mal classés afin de voir si on trouve des patterns."
   ]
  },
  {
   "cell_type": "code",
   "execution_count": 10,
   "id": "455fe437",
   "metadata": {},
   "outputs": [],
   "source": [
    "CNN_output_ptb = pd.concat([y_ptb, CNN_predict_ptb], axis=1)\n",
    "CNN_output_ptb.columns = [\"reel\", \"predict_CNN\"]"
   ]
  },
  {
   "cell_type": "code",
   "execution_count": 11,
   "id": "e9ff9d3a",
   "metadata": {},
   "outputs": [
    {
     "data": {
      "image/png": "[encoded data removed]",
      "text/plain": [
       "<Figure size 1152x648 with 9 Axes>"
      ]
     },
     "metadata": {
      "needs_background": "light"
     },
     "output_type": "display_data"
    }
   ],
   "source": [
    "fig,ax = plt.subplots(3,3, figsize = (16,9)) \n",
    "sns.set_theme()\n",
    "\n",
    "for i in range(3): \n",
    "    indice_0 = choice(CNN_output_ptb[(CNN_output_ptb[\"reel\"] == 1) & (CNN_output_ptb[\"predict_CNN\"] == 0)].index) \n",
    "    ax[0,i].plot(X_ptb.iloc[indice_0], c=\"red\")\n",
    "    ax[0,i].get_xaxis().set_visible(False)\n",
    "    ax[0,i].get_yaxis().set_visible(False)\n",
    "    ax[0,1].set_title(\"Exemples d'ECG de classe 1 classés en 0 par le CNN\", fontsize = 15)\n",
    "    ax[0,i].text(160, 0.9, indice_0)\n",
    "    \n",
    "for i in range(3): \n",
    "    indice_1 = choice(CNN_output_ptb[(CNN_output_ptb[\"reel\"] == 1) & (CNN_output_ptb[\"predict_CNN\"] == 1)].index) \n",
    "    ax[1,i].plot(X_ptb.iloc[indice_1], c=\"green\")\n",
    "    ax[1,i].get_xaxis().set_visible(False)\n",
    "    ax[1,i].get_yaxis().set_visible(False)\n",
    "    ax[1,1].set_title(\"Exemples d'ECG de classe 1 correctement classés en 1 par le CNN\", fontsize = 15)\n",
    "    ax[1,i].text(160, 0.9, indice_1)\n",
    "    \n",
    "for i in range(3): \n",
    "    indice_2 = choice(CNN_output_ptb[(CNN_output_ptb[\"reel\"] == 0) & (CNN_output_ptb[\"predict_CNN\"] == 0)].index) \n",
    "    ax[2,i].plot(X_ptb.iloc[indice_2], c=\"green\")\n",
    "    ax[2,i].get_xaxis().set_visible(False)\n",
    "    ax[2,i].get_yaxis().set_visible(False)\n",
    "    ax[2,1].set_title(\"Exemples d'ECG de classe 0 correctement classés en 0 par le CNN\", fontsize = 15)\n",
    "    ax[2,i].text(160, 0.9, indice_2)"
   ]
  },
  {
   "cell_type": "markdown",
   "id": "a1621f94",
   "metadata": {},
   "source": [
    "## Transfert Learning à partir du modèle du CNN entrainé sur le dataset MIT"
   ]
  },
  {
   "cell_type": "markdown",
   "id": "49f89707",
   "metadata": {},
   "source": [
    "### Remplacement de la dernière couche de classification"
   ]
  },
  {
   "cell_type": "markdown",
   "id": "5aa16ea5",
   "metadata": {},
   "source": [
    "Nous allons remplacer la dernière couche de classification à 5 neurones par une couche à 2 neurones, puis nous allons entrainer la dernière couche avec une partie du dataset PTB."
   ]
  },
  {
   "cell_type": "code",
   "execution_count": 15,
   "id": "794c4835",
   "metadata": {},
   "outputs": [],
   "source": [
    "for layer in CNN_1.layers:\n",
    "    layer.trainable = False\n",
    "    \n",
    "output = Dense(units = 2, activation=\"softmax\", name=\"output2\" )(CNN_1.layers[-2].output)\n",
    "\n",
    "CNN_2 = Model(inputs = CNN_1.input, outputs = output)\n",
    "CNN_2.compile(loss = \"categorical_crossentropy\", optimizer = \"adam\", metrics = [\"accuracy\"])\n"
   ]
  },
  {
   "cell_type": "code",
   "execution_count": 16,
   "id": "cbfe6582",
   "metadata": {},
   "outputs": [
    {
     "name": "stdout",
     "output_type": "stream",
     "text": [
      "Model: \"model\"\n",
      "_________________________________________________________________\n",
      " Layer (type)                Output Shape              Param #   \n",
      "=================================================================\n",
      " Input (InputLayer)          [(None, 187, 1)]          0         \n",
      "                                                                 \n",
      " conv1d (Conv1D)             (None, 183, 32)           192       \n",
      "                                                                 \n",
      " max_pooling1d (MaxPooling1D  (None, 91, 32)           0         \n",
      " )                                                               \n",
      "                                                                 \n",
      " dropout (Dropout)           (None, 91, 32)            0         \n",
      "                                                                 \n",
      " flatten (Flatten)           (None, 2912)              0         \n",
      "                                                                 \n",
      " dense (Dense)               (None, 128)               372864    \n",
      "                                                                 \n",
      " output2 (Dense)             (None, 2)                 258       \n",
      "                                                                 \n",
      "=================================================================\n",
      "Total params: 373,314\n",
      "Trainable params: 258\n",
      "Non-trainable params: 373,056\n",
      "_________________________________________________________________\n"
     ]
    }
   ],
   "source": [
    "CNN_2.summary()"
   ]
  },
  {
   "cell_type": "code",
   "execution_count": 17,
   "id": "5f6111c3",
   "metadata": {},
   "outputs": [],
   "source": [
    "from sklearn.model_selection import train_test_split\n",
    "\n",
    "X_train, X_test, y_train, y_test = train_test_split(X_ptb, y_ptb, test_size = 0.2)"
   ]
  },
  {
   "cell_type": "code",
   "execution_count": 18,
   "id": "1af5a91d",
   "metadata": {},
   "outputs": [],
   "source": [
    "y_train = to_categorical(y_train)\n",
    "y_test = to_categorical(y_test)"
   ]
  },
  {
   "cell_type": "code",
   "execution_count": 19,
   "id": "524cf882",
   "metadata": {},
   "outputs": [
    {
     "name": "stdout",
     "output_type": "stream",
     "text": [
      "Epoch 1/10\n",
      "47/47 [==============================] - 2s 25ms/step - loss: 0.6770 - accuracy: 0.6799 - val_loss: 0.5837 - val_accuracy: 0.7055\n",
      "Epoch 2/10\n",
      "47/47 [==============================] - 1s 21ms/step - loss: 0.5554 - accuracy: 0.7117 - val_loss: 0.5169 - val_accuracy: 0.7389\n",
      "Epoch 3/10\n",
      "47/47 [==============================] - 1s 20ms/step - loss: 0.5058 - accuracy: 0.7381 - val_loss: 0.4835 - val_accuracy: 0.7570\n",
      "Epoch 4/10\n",
      "47/47 [==============================] - 1s 19ms/step - loss: 0.4773 - accuracy: 0.7599 - val_loss: 0.4629 - val_accuracy: 0.7767\n",
      "Epoch 5/10\n",
      "47/47 [==============================] - 1s 17ms/step - loss: 0.4598 - accuracy: 0.7738 - val_loss: 0.4498 - val_accuracy: 0.7879\n",
      "Epoch 6/10\n",
      "47/47 [==============================] - 1s 17ms/step - loss: 0.4498 - accuracy: 0.7785 - val_loss: 0.4413 - val_accuracy: 0.7918\n",
      "Epoch 7/10\n",
      "47/47 [==============================] - 1s 17ms/step - loss: 0.4435 - accuracy: 0.7821 - val_loss: 0.4338 - val_accuracy: 0.7982\n",
      "Epoch 8/10\n",
      "47/47 [==============================] - 1s 15ms/step - loss: 0.4366 - accuracy: 0.7864 - val_loss: 0.4292 - val_accuracy: 0.8012\n",
      "Epoch 9/10\n",
      "47/47 [==============================] - 1s 16ms/step - loss: 0.4314 - accuracy: 0.7899 - val_loss: 0.4258 - val_accuracy: 0.8025\n",
      "Epoch 10/10\n",
      "47/47 [==============================] - 1s 15ms/step - loss: 0.4285 - accuracy: 0.7919 - val_loss: 0.4249 - val_accuracy: 0.7999\n"
     ]
    },
    {
     "data": {
      "text/plain": [
       "<keras.callbacks.History at 0x195ce356bb0>"
      ]
     },
     "execution_count": 19,
     "metadata": {},
     "output_type": "execute_result"
    }
   ],
   "source": [
    "CNN_2.fit(X_train, y_train, epochs = 10, batch_size = 200, validation_split = 0.2)"
   ]
  },
  {
   "cell_type": "code",
   "execution_count": 21,
   "id": "6cf3a07d",
   "metadata": {},
   "outputs": [],
   "source": [
    "CNN_2_predict = CNN_2.predict(X_test).argmax(1)"
   ]
  },
  {
   "cell_type": "code",
   "execution_count": 22,
   "id": "0c38bad4",
   "metadata": {},
   "outputs": [
    {
     "data": {
      "text/html": [
       "<div>\n",
       "<style scoped>\n",
       "    .dataframe tbody tr th:only-of-type {\n",
       "        vertical-align: middle;\n",
       "    }\n",
       "\n",
       "    .dataframe tbody tr th {\n",
       "        vertical-align: top;\n",
       "    }\n",
       "\n",
       "    .dataframe thead th {\n",
       "        text-align: right;\n",
       "    }\n",
       "</style>\n",
       "<table border=\"1\" class=\"dataframe\">\n",
       "  <thead>\n",
       "    <tr style=\"text-align: right;\">\n",
       "      <th>col_0</th>\n",
       "      <th>0</th>\n",
       "      <th>1</th>\n",
       "    </tr>\n",
       "    <tr>\n",
       "      <th>row_0</th>\n",
       "      <th></th>\n",
       "      <th></th>\n",
       "    </tr>\n",
       "  </thead>\n",
       "  <tbody>\n",
       "    <tr>\n",
       "      <th>0</th>\n",
       "      <td>492</td>\n",
       "      <td>349</td>\n",
       "    </tr>\n",
       "    <tr>\n",
       "      <th>1</th>\n",
       "      <td>259</td>\n",
       "      <td>1811</td>\n",
       "    </tr>\n",
       "  </tbody>\n",
       "</table>\n",
       "</div>"
      ],
      "text/plain": [
       "col_0    0     1\n",
       "row_0           \n",
       "0      492   349\n",
       "1      259  1811"
      ]
     },
     "execution_count": 22,
     "metadata": {},
     "output_type": "execute_result"
    }
   ],
   "source": [
    "pd.crosstab(y_test.argmax(1), CNN_2_predict)"
   ]
  },
  {
   "cell_type": "code",
   "execution_count": 23,
   "id": "f69e5bd9",
   "metadata": {},
   "outputs": [
    {
     "name": "stdout",
     "output_type": "stream",
     "text": [
      "              precision    recall  f1-score   support\n",
      "\n",
      "           0       0.66      0.59      0.62       841\n",
      "           1       0.84      0.87      0.86      2070\n",
      "\n",
      "    accuracy                           0.79      2911\n",
      "   macro avg       0.75      0.73      0.74      2911\n",
      "weighted avg       0.79      0.79      0.79      2911\n",
      "\n"
     ]
    }
   ],
   "source": [
    "print(classification_report(y_test.argmax(1), CNN_2_predict))"
   ]
  },
  {
   "cell_type": "markdown",
   "id": "253f956b",
   "metadata": {},
   "source": [
    "Nous observons déjà de meilleurs résultats en terme de rappel. Par contre on a  un déséquilibre des classes donc procédons à un oversampling SMOTE :"
   ]
  },
  {
   "cell_type": "code",
   "execution_count": 25,
   "id": "bf016c02",
   "metadata": {},
   "outputs": [],
   "source": [
    "from imblearn.over_sampling import SMOTE"
   ]
  },
  {
   "cell_type": "code",
   "execution_count": 26,
   "id": "4123b978",
   "metadata": {},
   "outputs": [],
   "source": [
    "smote = SMOTE()\n",
    "X_sm, y_sm = smote.fit_resample(X_train, y_train)\n",
    "y_sm = to_categorical(y_sm)"
   ]
  },
  {
   "cell_type": "code",
   "execution_count": 45,
   "id": "4a1b4832",
   "metadata": {},
   "outputs": [
    {
     "name": "stdout",
     "output_type": "stream",
     "text": [
      "Epoch 1/30\n",
      "68/68 [==============================] - 1s 13ms/step - loss: 0.4508 - accuracy: 0.7737 - val_loss: 0.5472 - val_accuracy: 0.7407\n",
      "Epoch 2/30\n",
      "68/68 [==============================] - 1s 13ms/step - loss: 0.4497 - accuracy: 0.7751 - val_loss: 0.5441 - val_accuracy: 0.7428\n",
      "Epoch 3/30\n",
      "68/68 [==============================] - 1s 13ms/step - loss: 0.4487 - accuracy: 0.7744 - val_loss: 0.6069 - val_accuracy: 0.7049\n",
      "Epoch 4/30\n",
      "68/68 [==============================] - 1s 15ms/step - loss: 0.4486 - accuracy: 0.7757 - val_loss: 0.6085 - val_accuracy: 0.7061\n",
      "Epoch 5/30\n",
      "68/68 [==============================] - 1s 12ms/step - loss: 0.4479 - accuracy: 0.7770 - val_loss: 0.5811 - val_accuracy: 0.7185\n",
      "Epoch 6/30\n",
      "68/68 [==============================] - 1s 12ms/step - loss: 0.4489 - accuracy: 0.7732 - val_loss: 0.6209 - val_accuracy: 0.6975\n",
      "Epoch 7/30\n",
      "68/68 [==============================] - 1s 12ms/step - loss: 0.4476 - accuracy: 0.7740 - val_loss: 0.6051 - val_accuracy: 0.7046\n",
      "Epoch 8/30\n",
      "68/68 [==============================] - 1s 12ms/step - loss: 0.4464 - accuracy: 0.7757 - val_loss: 0.5991 - val_accuracy: 0.7081\n",
      "Epoch 9/30\n",
      "68/68 [==============================] - 1s 14ms/step - loss: 0.4461 - accuracy: 0.7765 - val_loss: 0.5925 - val_accuracy: 0.7117\n",
      "Epoch 10/30\n",
      "68/68 [==============================] - 1s 14ms/step - loss: 0.4473 - accuracy: 0.7771 - val_loss: 0.5741 - val_accuracy: 0.7230\n",
      "Epoch 11/30\n",
      "68/68 [==============================] - 1s 13ms/step - loss: 0.4457 - accuracy: 0.7750 - val_loss: 0.5836 - val_accuracy: 0.7161\n",
      "Epoch 12/30\n",
      "68/68 [==============================] - 1s 12ms/step - loss: 0.4466 - accuracy: 0.7776 - val_loss: 0.5796 - val_accuracy: 0.7200\n",
      "Epoch 13/30\n",
      "68/68 [==============================] - 1s 14ms/step - loss: 0.4451 - accuracy: 0.7757 - val_loss: 0.5558 - val_accuracy: 0.7327\n",
      "Epoch 14/30\n",
      "68/68 [==============================] - 1s 16ms/step - loss: 0.4452 - accuracy: 0.7768 - val_loss: 0.5979 - val_accuracy: 0.7090\n",
      "Epoch 15/30\n",
      "68/68 [==============================] - 1s 16ms/step - loss: 0.4469 - accuracy: 0.7762 - val_loss: 0.5700 - val_accuracy: 0.7280\n",
      "Epoch 16/30\n",
      "68/68 [==============================] - 1s 14ms/step - loss: 0.4476 - accuracy: 0.7778 - val_loss: 0.5943 - val_accuracy: 0.7123\n",
      "Epoch 17/30\n",
      "68/68 [==============================] - 1s 14ms/step - loss: 0.4473 - accuracy: 0.7777 - val_loss: 0.5706 - val_accuracy: 0.7250\n",
      "Epoch 18/30\n",
      "68/68 [==============================] - 1s 14ms/step - loss: 0.4452 - accuracy: 0.7780 - val_loss: 0.5466 - val_accuracy: 0.7384\n",
      "Epoch 19/30\n",
      "68/68 [==============================] - 1s 14ms/step - loss: 0.4455 - accuracy: 0.7774 - val_loss: 0.5912 - val_accuracy: 0.7111\n",
      "Epoch 20/30\n",
      "68/68 [==============================] - 1s 14ms/step - loss: 0.4441 - accuracy: 0.7785 - val_loss: 0.5457 - val_accuracy: 0.7387\n",
      "Epoch 21/30\n",
      "68/68 [==============================] - 1s 14ms/step - loss: 0.4453 - accuracy: 0.7729 - val_loss: 0.5781 - val_accuracy: 0.7182\n",
      "Epoch 22/30\n",
      "68/68 [==============================] - 1s 14ms/step - loss: 0.4472 - accuracy: 0.7760 - val_loss: 0.5987 - val_accuracy: 0.7067\n",
      "Epoch 23/30\n",
      "68/68 [==============================] - 1s 14ms/step - loss: 0.4475 - accuracy: 0.7725 - val_loss: 0.5122 - val_accuracy: 0.7603\n",
      "Epoch 24/30\n",
      "68/68 [==============================] - 1s 14ms/step - loss: 0.4472 - accuracy: 0.7763 - val_loss: 0.5752 - val_accuracy: 0.7203\n",
      "Epoch 25/30\n",
      "68/68 [==============================] - 1s 18ms/step - loss: 0.4465 - accuracy: 0.7738 - val_loss: 0.5856 - val_accuracy: 0.7144\n",
      "Epoch 26/30\n",
      "68/68 [==============================] - 1s 16ms/step - loss: 0.4438 - accuracy: 0.7746 - val_loss: 0.6108 - val_accuracy: 0.7031\n",
      "Epoch 27/30\n",
      "68/68 [==============================] - 1s 15ms/step - loss: 0.4452 - accuracy: 0.7788 - val_loss: 0.6098 - val_accuracy: 0.6984\n",
      "Epoch 28/30\n",
      "68/68 [==============================] - 1s 14ms/step - loss: 0.4450 - accuracy: 0.7762 - val_loss: 0.6050 - val_accuracy: 0.7013\n",
      "Epoch 29/30\n",
      "68/68 [==============================] - 1s 14ms/step - loss: 0.4471 - accuracy: 0.7771 - val_loss: 0.5597 - val_accuracy: 0.7307\n",
      "Epoch 30/30\n",
      "68/68 [==============================] - 1s 14ms/step - loss: 0.4442 - accuracy: 0.7796 - val_loss: 0.5476 - val_accuracy: 0.7384\n"
     ]
    }
   ],
   "source": [
    "CNN_2.fit(X_sm, y_sm, epochs = 30, batch_size = 200, validation_split = 0.2)\n",
    "CNN_2_predict_sm = CNN_2.predict(X_test).argmax(1)"
   ]
  },
  {
   "cell_type": "code",
   "execution_count": 46,
   "id": "0ef3dfe3",
   "metadata": {},
   "outputs": [
    {
     "data": {
      "text/html": [
       "<div>\n",
       "<style scoped>\n",
       "    .dataframe tbody tr th:only-of-type {\n",
       "        vertical-align: middle;\n",
       "    }\n",
       "\n",
       "    .dataframe tbody tr th {\n",
       "        vertical-align: top;\n",
       "    }\n",
       "\n",
       "    .dataframe thead th {\n",
       "        text-align: right;\n",
       "    }\n",
       "</style>\n",
       "<table border=\"1\" class=\"dataframe\">\n",
       "  <thead>\n",
       "    <tr style=\"text-align: right;\">\n",
       "      <th>col_0</th>\n",
       "      <th>0</th>\n",
       "      <th>1</th>\n",
       "    </tr>\n",
       "    <tr>\n",
       "      <th>row_0</th>\n",
       "      <th></th>\n",
       "      <th></th>\n",
       "    </tr>\n",
       "  </thead>\n",
       "  <tbody>\n",
       "    <tr>\n",
       "      <th>0</th>\n",
       "      <td>622</td>\n",
       "      <td>219</td>\n",
       "    </tr>\n",
       "    <tr>\n",
       "      <th>1</th>\n",
       "      <td>445</td>\n",
       "      <td>1625</td>\n",
       "    </tr>\n",
       "  </tbody>\n",
       "</table>\n",
       "</div>"
      ],
      "text/plain": [
       "col_0    0     1\n",
       "row_0           \n",
       "0      622   219\n",
       "1      445  1625"
      ]
     },
     "execution_count": 46,
     "metadata": {},
     "output_type": "execute_result"
    }
   ],
   "source": [
    "pd.crosstab(y_test.argmax(1), CNN_2_predict_sm)"
   ]
  },
  {
   "cell_type": "code",
   "execution_count": 47,
   "id": "1019bf27",
   "metadata": {},
   "outputs": [
    {
     "name": "stdout",
     "output_type": "stream",
     "text": [
      "              precision    recall  f1-score   support\n",
      "\n",
      "           0       0.58      0.74      0.65       841\n",
      "           1       0.88      0.79      0.83      2070\n",
      "\n",
      "    accuracy                           0.77      2911\n",
      "   macro avg       0.73      0.76      0.74      2911\n",
      "weighted avg       0.80      0.77      0.78      2911\n",
      "\n"
     ]
    }
   ],
   "source": [
    "print(classification_report(y_test.argmax(1), CNN_2_predict_sm))"
   ]
  },
  {
   "cell_type": "markdown",
   "id": "8cc1573f",
   "metadata": {},
   "source": [
    "Après rééquilbrage des classes avant entrainement de la dernière couche, on observe de meilleurs résultats. Au lieu de simplement modifier la dernière couche, nous allons remplacer la dernière couche par 2 couches."
   ]
  },
  {
   "cell_type": "markdown",
   "id": "d88bee64",
   "metadata": {},
   "source": [
    "### Remplacement des deux dernières couches de classification"
   ]
  },
  {
   "cell_type": "code",
   "execution_count": 30,
   "id": "f3b0b47d",
   "metadata": {},
   "outputs": [
    {
     "name": "stdout",
     "output_type": "stream",
     "text": [
      "Model: \"model_1\"\n",
      "_________________________________________________________________\n",
      " Layer (type)                Output Shape              Param #   \n",
      "=================================================================\n",
      " Input (InputLayer)          [(None, 187, 1)]          0         \n",
      "                                                                 \n",
      " conv1d (Conv1D)             (None, 183, 32)           192       \n",
      "                                                                 \n",
      " max_pooling1d (MaxPooling1D  (None, 91, 32)           0         \n",
      " )                                                               \n",
      "                                                                 \n",
      " dropout (Dropout)           (None, 91, 32)            0         \n",
      "                                                                 \n",
      " flatten (Flatten)           (None, 2912)              0         \n",
      "                                                                 \n",
      " dense (Dense)               (None, 128)               372864    \n",
      "                                                                 \n",
      " dense_1 (Dense)             (None, 5)                 645       \n",
      "                                                                 \n",
      "=================================================================\n",
      "Total params: 373,701\n",
      "Trainable params: 0\n",
      "Non-trainable params: 373,701\n",
      "_________________________________________________________________\n"
     ]
    }
   ],
   "source": [
    "CNN_1.summary()"
   ]
  },
  {
   "cell_type": "code",
   "execution_count": 32,
   "id": "6dcff8e4",
   "metadata": {},
   "outputs": [],
   "source": [
    "dense_5 = Dense(units = 128, activation = \"tanh\", name = \"dense5\", kernel_initializer=\"normal\")(CNN_1.layers[-2].output)\n",
    "output = Dense(units = 2, activation=\"softmax\", name=\"output2\" )(dense_5)\n",
    "CNN_3 = Model(inputs = CNN_1.inputs, outputs = output)\n",
    "CNN_3.compile(loss = \"categorical_crossentropy\", optimizer = \"adam\", metrics = [\"accuracy\"])"
   ]
  },
  {
   "cell_type": "code",
   "execution_count": 33,
   "id": "d0e4a307",
   "metadata": {},
   "outputs": [
    {
     "name": "stdout",
     "output_type": "stream",
     "text": [
      "Model: \"model_1\"\n",
      "_________________________________________________________________\n",
      " Layer (type)                Output Shape              Param #   \n",
      "=================================================================\n",
      " Input (InputLayer)          [(None, 187, 1)]          0         \n",
      "                                                                 \n",
      " conv1d (Conv1D)             (None, 183, 32)           192       \n",
      "                                                                 \n",
      " max_pooling1d (MaxPooling1D  (None, 91, 32)           0         \n",
      " )                                                               \n",
      "                                                                 \n",
      " dropout (Dropout)           (None, 91, 32)            0         \n",
      "                                                                 \n",
      " flatten (Flatten)           (None, 2912)              0         \n",
      "                                                                 \n",
      " dense (Dense)               (None, 128)               372864    \n",
      "                                                                 \n",
      " dense5 (Dense)              (None, 128)               16512     \n",
      "                                                                 \n",
      " output2 (Dense)             (None, 2)                 258       \n",
      "                                                                 \n",
      "=================================================================\n",
      "Total params: 389,826\n",
      "Trainable params: 16,770\n",
      "Non-trainable params: 373,056\n",
      "_________________________________________________________________\n"
     ]
    }
   ],
   "source": [
    "CNN_3.summary()"
   ]
  },
  {
   "cell_type": "code",
   "execution_count": 42,
   "id": "fb5fb372",
   "metadata": {},
   "outputs": [
    {
     "name": "stdout",
     "output_type": "stream",
     "text": [
      "Epoch 1/30\n",
      "68/68 [==============================] - 1s 13ms/step - loss: 0.2028 - accuracy: 0.9210 - val_loss: 0.1932 - val_accuracy: 0.9440\n",
      "Epoch 2/30\n",
      "68/68 [==============================] - 1s 13ms/step - loss: 0.1955 - accuracy: 0.9226 - val_loss: 0.1660 - val_accuracy: 0.9579\n",
      "Epoch 3/30\n",
      "68/68 [==============================] - 1s 13ms/step - loss: 0.1909 - accuracy: 0.9276 - val_loss: 0.1544 - val_accuracy: 0.9597\n",
      "Epoch 4/30\n",
      "68/68 [==============================] - 1s 13ms/step - loss: 0.1914 - accuracy: 0.9234 - val_loss: 0.1841 - val_accuracy: 0.9470\n",
      "Epoch 5/30\n",
      "68/68 [==============================] - 1s 13ms/step - loss: 0.1895 - accuracy: 0.9250 - val_loss: 0.2346 - val_accuracy: 0.9191\n",
      "Epoch 6/30\n",
      "68/68 [==============================] - 1s 14ms/step - loss: 0.1868 - accuracy: 0.9258 - val_loss: 0.0959 - val_accuracy: 0.9801\n",
      "Epoch 7/30\n",
      "68/68 [==============================] - 1s 14ms/step - loss: 0.1886 - accuracy: 0.9245 - val_loss: 0.0968 - val_accuracy: 0.9778\n",
      "Epoch 8/30\n",
      "68/68 [==============================] - 1s 13ms/step - loss: 0.1873 - accuracy: 0.9258 - val_loss: 0.1710 - val_accuracy: 0.9505\n",
      "Epoch 9/30\n",
      "68/68 [==============================] - 1s 13ms/step - loss: 0.1833 - accuracy: 0.9258 - val_loss: 0.1356 - val_accuracy: 0.9647\n",
      "Epoch 10/30\n",
      "68/68 [==============================] - 1s 12ms/step - loss: 0.1787 - accuracy: 0.9275 - val_loss: 0.1711 - val_accuracy: 0.9526\n",
      "Epoch 11/30\n",
      "68/68 [==============================] - 1s 12ms/step - loss: 0.1743 - accuracy: 0.9310 - val_loss: 0.2068 - val_accuracy: 0.9298\n",
      "Epoch 12/30\n",
      "68/68 [==============================] - 1s 15ms/step - loss: 0.1745 - accuracy: 0.9312 - val_loss: 0.1221 - val_accuracy: 0.9710\n",
      "Epoch 13/30\n",
      "68/68 [==============================] - 1s 15ms/step - loss: 0.1703 - accuracy: 0.9330 - val_loss: 0.0885 - val_accuracy: 0.9834\n",
      "Epoch 14/30\n",
      "68/68 [==============================] - 1s 15ms/step - loss: 0.1684 - accuracy: 0.9348 - val_loss: 0.1321 - val_accuracy: 0.9641\n",
      "Epoch 15/30\n",
      "68/68 [==============================] - 1s 14ms/step - loss: 0.1698 - accuracy: 0.9335 - val_loss: 0.1795 - val_accuracy: 0.9473\n",
      "Epoch 16/30\n",
      "68/68 [==============================] - 1s 15ms/step - loss: 0.1691 - accuracy: 0.9352 - val_loss: 0.1293 - val_accuracy: 0.9662\n",
      "Epoch 17/30\n",
      "68/68 [==============================] - 1s 15ms/step - loss: 0.1641 - accuracy: 0.9365 - val_loss: 0.0822 - val_accuracy: 0.9837\n",
      "Epoch 18/30\n",
      "68/68 [==============================] - 1s 14ms/step - loss: 0.1629 - accuracy: 0.9389 - val_loss: 0.1910 - val_accuracy: 0.9372\n",
      "Epoch 19/30\n",
      "68/68 [==============================] - 1s 14ms/step - loss: 0.1617 - accuracy: 0.9375 - val_loss: 0.1120 - val_accuracy: 0.9719\n",
      "Epoch 20/30\n",
      "68/68 [==============================] - 1s 14ms/step - loss: 0.1633 - accuracy: 0.9368 - val_loss: 0.1815 - val_accuracy: 0.9422\n",
      "Epoch 21/30\n",
      "68/68 [==============================] - 1s 14ms/step - loss: 0.1575 - accuracy: 0.9404 - val_loss: 0.0891 - val_accuracy: 0.9846\n",
      "Epoch 22/30\n",
      "68/68 [==============================] - 1s 15ms/step - loss: 0.1625 - accuracy: 0.9364 - val_loss: 0.1448 - val_accuracy: 0.9570\n",
      "Epoch 23/30\n",
      "68/68 [==============================] - 1s 15ms/step - loss: 0.1619 - accuracy: 0.9367 - val_loss: 0.0851 - val_accuracy: 0.9816\n",
      "Epoch 24/30\n",
      "68/68 [==============================] - 1s 14ms/step - loss: 0.1592 - accuracy: 0.9370 - val_loss: 0.1464 - val_accuracy: 0.9576\n",
      "Epoch 25/30\n",
      "68/68 [==============================] - 1s 14ms/step - loss: 0.1567 - accuracy: 0.9394 - val_loss: 0.1379 - val_accuracy: 0.9606\n",
      "Epoch 26/30\n",
      "68/68 [==============================] - 1s 14ms/step - loss: 0.1574 - accuracy: 0.9378 - val_loss: 0.1033 - val_accuracy: 0.9778\n",
      "Epoch 27/30\n",
      "68/68 [==============================] - 1s 14ms/step - loss: 0.1527 - accuracy: 0.9424 - val_loss: 0.0897 - val_accuracy: 0.9801\n",
      "Epoch 28/30\n",
      "68/68 [==============================] - 1s 15ms/step - loss: 0.1527 - accuracy: 0.9409 - val_loss: 0.0974 - val_accuracy: 0.9787\n",
      "Epoch 29/30\n",
      "68/68 [==============================] - 1s 15ms/step - loss: 0.1517 - accuracy: 0.9431 - val_loss: 0.1063 - val_accuracy: 0.9760\n",
      "Epoch 30/30\n",
      "68/68 [==============================] - 1s 15ms/step - loss: 0.1515 - accuracy: 0.9409 - val_loss: 0.0964 - val_accuracy: 0.9778\n"
     ]
    }
   ],
   "source": [
    "CNN_3.fit(X_sm, y_sm, epochs = 30, batch_size = 200, validation_split = 0.2)\n",
    "CNN_3_predict_sm = CNN_3.predict(X_test).argmax(1)"
   ]
  },
  {
   "cell_type": "code",
   "execution_count": 43,
   "id": "2ff30602",
   "metadata": {},
   "outputs": [
    {
     "data": {
      "text/html": [
       "<div>\n",
       "<style scoped>\n",
       "    .dataframe tbody tr th:only-of-type {\n",
       "        vertical-align: middle;\n",
       "    }\n",
       "\n",
       "    .dataframe tbody tr th {\n",
       "        vertical-align: top;\n",
       "    }\n",
       "\n",
       "    .dataframe thead th {\n",
       "        text-align: right;\n",
       "    }\n",
       "</style>\n",
       "<table border=\"1\" class=\"dataframe\">\n",
       "  <thead>\n",
       "    <tr style=\"text-align: right;\">\n",
       "      <th>col_0</th>\n",
       "      <th>0</th>\n",
       "      <th>1</th>\n",
       "    </tr>\n",
       "    <tr>\n",
       "      <th>row_0</th>\n",
       "      <th></th>\n",
       "      <th></th>\n",
       "    </tr>\n",
       "  </thead>\n",
       "  <tbody>\n",
       "    <tr>\n",
       "      <th>0</th>\n",
       "      <td>790</td>\n",
       "      <td>51</td>\n",
       "    </tr>\n",
       "    <tr>\n",
       "      <th>1</th>\n",
       "      <td>107</td>\n",
       "      <td>1963</td>\n",
       "    </tr>\n",
       "  </tbody>\n",
       "</table>\n",
       "</div>"
      ],
      "text/plain": [
       "col_0    0     1\n",
       "row_0           \n",
       "0      790    51\n",
       "1      107  1963"
      ]
     },
     "execution_count": 43,
     "metadata": {},
     "output_type": "execute_result"
    }
   ],
   "source": [
    "pd.crosstab(y_test.argmax(1), CNN_3_predict_sm)"
   ]
  },
  {
   "cell_type": "code",
   "execution_count": 44,
   "id": "af20bd98",
   "metadata": {},
   "outputs": [
    {
     "name": "stdout",
     "output_type": "stream",
     "text": [
      "              precision    recall  f1-score   support\n",
      "\n",
      "           0       0.88      0.94      0.91       841\n",
      "           1       0.97      0.95      0.96      2070\n",
      "\n",
      "    accuracy                           0.95      2911\n",
      "   macro avg       0.93      0.94      0.94      2911\n",
      "weighted avg       0.95      0.95      0.95      2911\n",
      "\n"
     ]
    }
   ],
   "source": [
    "print(classification_report(y_test.argmax(1), CNN_3_predict_sm))"
   ]
  },
  {
   "cell_type": "markdown",
   "id": "0db01b06",
   "metadata": {},
   "source": [
    "Nous observons de meilleurs résultats qu'avec le réseau de neurones précédent."
   ]
  }
 ],
 "metadata": {
  "kernelspec": {
   "display_name": "Python 3 (ipykernel)",
   "language": "python",
   "name": "python3"
  },
  "language_info": {
   "codemirror_mode": {
    "name": "ipython",
    "version": 3
   },
   "file_extension": ".py",
   "mimetype": "text/x-python",
   "name": "python",
   "nbconvert_exporter": "python",
   "pygments_lexer": "ipython3",
   "version": "3.8.12"
  }
 },
 "nbformat": 4,
 "nbformat_minor": 5
}
