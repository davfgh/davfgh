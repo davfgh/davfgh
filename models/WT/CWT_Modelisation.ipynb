{
 "cells": [
  {
   "cell_type": "markdown",
   "id": "028c22bf",
   "metadata": {},
   "source": [
    "# Librairies et fichiers"
   ]
  },
  {
   "cell_type": "code",
   "execution_count": 1,
   "id": "eaf17b7d",
   "metadata": {},
   "outputs": [],
   "source": [
    "import numpy as np\n",
    "import pandas as pd\n",
    "\n",
    "import seaborn as sns\n",
    "import matplotlib.pyplot as plt\n",
    "%matplotlib inline\n",
    "\n",
    "import scipy\n",
    "from scipy import ndimage\n",
    "from scipy import signal\n",
    "from pylab import *\n",
    "import time\n",
    "import math\n",
    "import random \n",
    "\n",
    "import pywt\n",
    "import pywt.data\n",
    "\n",
    "from sklearn import linear_model\n",
    "from sklearn import preprocessing\n",
    "from sklearn.metrics import accuracy_score\n",
    "from sklearn.metrics import confusion_matrix\n",
    "from sklearn.model_selection import train_test_split\n",
    "\n",
    "# Pour importer le datasets mnist de Keras\n",
    "from tensorflow.keras.datasets.mnist import load_data\n",
    "\n",
    "\n",
    "import cv2\n",
    "\n",
    "from mpl_toolkits.mplot3d import Axes3D\n",
    "\n",
    "import os\n",
    "\n",
    "from copy import deepcopy"
   ]
  },
  {
   "cell_type": "code",
   "execution_count": 2,
   "id": "414d814f",
   "metadata": {},
   "outputs": [],
   "source": [
    "# on importe directement les fichiers crées par le notebook CWT_complet pour pouvoir passer rapidement à la modélisation\n",
    "\n",
    "#nomFicTrain ='cwt_8x94x641_mexh_train.csv'\n",
    "#nomFicTest ='cwt_8x94x128_mexh_test.csv'\n",
    "\n",
    "nomFicTrain ='cwt_8x94x20_mexh_train.csv'\n",
    "nomFicTest ='cwt_8x94x5_mexh_test.csv'\n",
    "\n",
    "arr_train = pd.read_csv(nomFicTrain)\n",
    "arr_test = pd.read_csv(nomFicTest)"
   ]
  },
  {
   "cell_type": "markdown",
   "id": "7e209e0d",
   "metadata": {},
   "source": [
    "# Pre-Processing"
   ]
  },
  {
   "cell_type": "code",
   "execution_count": 3,
   "id": "e2a0347c",
   "metadata": {},
   "outputs": [
    {
     "name": "stdout",
     "output_type": "stream",
     "text": [
      "Shape of X: (100, 752)\n",
      "Shape of y: (100,)\n"
     ]
    }
   ],
   "source": [
    "X_train = arr_train.iloc[:,1:-1]\n",
    "y_train = arr_train.iloc[:,-1]\n",
    "# Shape of X_train and y_train\n",
    "\n",
    "print('Shape of X:', X_train.shape)\n",
    "print('Shape of y:', y_train.shape)"
   ]
  },
  {
   "cell_type": "code",
   "execution_count": 4,
   "id": "5ab1f05e",
   "metadata": {},
   "outputs": [
    {
     "name": "stdout",
     "output_type": "stream",
     "text": [
      "Shape of X: (25, 752)\n",
      "Shape of y: (25,)\n"
     ]
    }
   ],
   "source": [
    "X_test = arr_test.iloc[:,1:-1]\n",
    "y_test = arr_test.iloc[:,-1]\n",
    "\n",
    "# Shape of X_train and y_train\n",
    "print('Shape of X:', X_test.shape)\n",
    "print('Shape of y:', y_test.shape)"
   ]
  },
  {
   "cell_type": "code",
   "execution_count": 5,
   "id": "5ec33f08",
   "metadata": {},
   "outputs": [],
   "source": [
    "X_train = X_train / 255\n",
    "X_test = X_test / 255"
   ]
  },
  {
   "cell_type": "code",
   "execution_count": 6,
   "id": "f993d2e0",
   "metadata": {},
   "outputs": [],
   "source": [
    "from tensorflow.keras.utils import to_categorical\n",
    "\n",
    "from tensorflow.keras.layers import Input, Dense # Pour construire un réseau de neurones et \n",
    "                                                 # instancier une couche d'entrée et une couche dense\n",
    "from tensorflow.keras.models import Model\n",
    "\n",
    "import itertools # Pour créer des iterateurs\n",
    "\n",
    "from sklearn import metrics # Pour évaluer les modèles"
   ]
  },
  {
   "cell_type": "code",
   "execution_count": 7,
   "id": "3465ae38",
   "metadata": {},
   "outputs": [],
   "source": [
    "y_train = to_categorical(y_train, dtype = 'int') \n",
    "y_test = to_categorical(y_test, dtype = 'int')   \n",
    "\n",
    "num_pixels = X_train.shape[1]\n",
    "num_classes = y_test.shape[1]"
   ]
  },
  {
   "cell_type": "markdown",
   "id": "42382aca",
   "metadata": {},
   "source": [
    "# Modélisation"
   ]
  },
  {
   "cell_type": "code",
   "execution_count": 8,
   "id": "2779b22b",
   "metadata": {},
   "outputs": [],
   "source": [
    "inputs = Input(shape = num_pixels, name = \"Input\")\n",
    "\n",
    "dense1 = Dense(units = 20, activation = \"tanh\",kernel_initializer ='normal', name = \"Dense_1\")\n",
    "dense2 = Dense(units = num_classes, activation = \"softmax\",kernel_initializer ='normal', name = \"Dense_2\")\n",
    "\n",
    "x=dense1(inputs)\n",
    "\n",
    "outputs=dense2(x)\n",
    "\n",
    "model = Model(inputs = inputs, outputs = outputs)"
   ]
  },
  {
   "cell_type": "code",
   "execution_count": 9,
   "id": "1826283e",
   "metadata": {},
   "outputs": [],
   "source": [
    "# compilation du modele\n",
    "model.compile(loss = 'categorical_crossentropy',  # fonction de perte\n",
    "              optimizer = 'adam',                 # algorithme d'optimisation\n",
    "              metrics = ['accuracy'])             # métrique d'évaluation"
   ]
  },
  {
   "cell_type": "code",
   "execution_count": 10,
   "id": "04eb8a2e",
   "metadata": {},
   "outputs": [
    {
     "name": "stdout",
     "output_type": "stream",
     "text": [
      "Epoch 1/20\n",
      "1/1 [==============================] - 0s 349ms/step - loss: 1.6094 - accuracy: 0.2875 - val_loss: 1.6121 - val_accuracy: 0.0000e+00\n",
      "Epoch 2/20\n",
      "1/1 [==============================] - 0s 19ms/step - loss: 1.6087 - accuracy: 0.3000 - val_loss: 1.6146 - val_accuracy: 0.0000e+00\n",
      "Epoch 3/20\n",
      "1/1 [==============================] - 0s 19ms/step - loss: 1.6080 - accuracy: 0.2500 - val_loss: 1.6172 - val_accuracy: 0.0000e+00\n",
      "Epoch 4/20\n",
      "1/1 [==============================] - 0s 19ms/step - loss: 1.6073 - accuracy: 0.2500 - val_loss: 1.6198 - val_accuracy: 0.0000e+00\n",
      "Epoch 5/20\n",
      "1/1 [==============================] - 0s 21ms/step - loss: 1.6066 - accuracy: 0.2500 - val_loss: 1.6225 - val_accuracy: 0.0000e+00\n",
      "Epoch 6/20\n",
      "1/1 [==============================] - 0s 19ms/step - loss: 1.6059 - accuracy: 0.2500 - val_loss: 1.6252 - val_accuracy: 0.0000e+00\n",
      "Epoch 7/20\n",
      "1/1 [==============================] - 0s 18ms/step - loss: 1.6052 - accuracy: 0.2500 - val_loss: 1.6280 - val_accuracy: 0.0000e+00\n",
      "Epoch 8/20\n",
      "1/1 [==============================] - 0s 18ms/step - loss: 1.6045 - accuracy: 0.2500 - val_loss: 1.6309 - val_accuracy: 0.0000e+00\n",
      "Epoch 9/20\n",
      "1/1 [==============================] - 0s 19ms/step - loss: 1.6037 - accuracy: 0.2500 - val_loss: 1.6338 - val_accuracy: 0.0000e+00\n",
      "Epoch 10/20\n",
      "1/1 [==============================] - 0s 18ms/step - loss: 1.6029 - accuracy: 0.2500 - val_loss: 1.6369 - val_accuracy: 0.0000e+00\n",
      "Epoch 11/20\n",
      "1/1 [==============================] - 0s 18ms/step - loss: 1.6021 - accuracy: 0.2500 - val_loss: 1.6400 - val_accuracy: 0.0000e+00\n",
      "Epoch 12/20\n",
      "1/1 [==============================] - 0s 18ms/step - loss: 1.6013 - accuracy: 0.2500 - val_loss: 1.6432 - val_accuracy: 0.0000e+00\n",
      "Epoch 13/20\n",
      "1/1 [==============================] - 0s 18ms/step - loss: 1.6005 - accuracy: 0.2500 - val_loss: 1.6465 - val_accuracy: 0.0000e+00\n",
      "Epoch 14/20\n",
      "1/1 [==============================] - 0s 18ms/step - loss: 1.5997 - accuracy: 0.2500 - val_loss: 1.6499 - val_accuracy: 0.0000e+00\n",
      "Epoch 15/20\n",
      "1/1 [==============================] - 0s 19ms/step - loss: 1.5988 - accuracy: 0.2500 - val_loss: 1.6533 - val_accuracy: 0.0000e+00\n",
      "Epoch 16/20\n",
      "1/1 [==============================] - 0s 18ms/step - loss: 1.5979 - accuracy: 0.2500 - val_loss: 1.6569 - val_accuracy: 0.0000e+00\n",
      "Epoch 17/20\n",
      "1/1 [==============================] - 0s 18ms/step - loss: 1.5970 - accuracy: 0.2500 - val_loss: 1.6606 - val_accuracy: 0.0000e+00\n",
      "Epoch 18/20\n",
      "1/1 [==============================] - 0s 18ms/step - loss: 1.5961 - accuracy: 0.2500 - val_loss: 1.6643 - val_accuracy: 0.0000e+00\n",
      "Epoch 19/20\n",
      "1/1 [==============================] - 0s 18ms/step - loss: 1.5951 - accuracy: 0.2500 - val_loss: 1.6682 - val_accuracy: 0.0000e+00\n",
      "Epoch 20/20\n",
      "1/1 [==============================] - 0s 19ms/step - loss: 1.5942 - accuracy: 0.2500 - val_loss: 1.6722 - val_accuracy: 0.0000e+00\n"
     ]
    }
   ],
   "source": [
    "# entrainement du modèle\n",
    "training_history = model.fit(X_train, y_train,          # données d'entraînement\n",
    "                             epochs = 20,               # nombre d'epochs\n",
    "                             batch_size = 200,          # taille des batchs\n",
    "                             validation_split = 0.2)    # proportion de l'échantillon de test"
   ]
  },
  {
   "cell_type": "code",
   "execution_count": 11,
   "id": "6f6f2f27",
   "metadata": {},
   "outputs": [],
   "source": [
    "# stockage des précisions d'entraînement et de test obtenues pendant l'entraînement\n",
    "train_acc = training_history.history['accuracy']\n",
    "val_acc = training_history.history['val_accuracy']"
   ]
  },
  {
   "cell_type": "code",
   "execution_count": 12,
   "id": "44c92ac4",
   "metadata": {},
   "outputs": [
    {
     "data": {
      "image/png": "[encoded data removed]",
      "text/plain": [
       "<Figure size 432x288 with 1 Axes>"
      ]
     },
     "metadata": {
      "needs_background": "light"
     },
     "output_type": "display_data"
    }
   ],
   "source": [
    "# Labels des axes\n",
    "plt.xlabel('Epochs')\n",
    "plt.ylabel('Accuracy')\n",
    "\n",
    "# Courbe de la précision sur l'échantillon d'entrainement\n",
    "plt.plot(np.arange(1 , 21, 1),\n",
    "         training_history.history['accuracy'],\n",
    "         label = 'Training Accuracy',\n",
    "         color = 'blue')\n",
    "\n",
    "# Courbe de la précision sur l'échantillon de test\n",
    "plt.plot(np.arange(1 , 21, 1),\n",
    "         training_history.history['val_accuracy'], \n",
    "         label = 'Validation Accuracy',\n",
    "         color = 'red')\n",
    "\n",
    "# Affichage de la légende\n",
    "plt.legend()\n",
    "\n",
    "# Affichage de la figure\n",
    "plt.show()"
   ]
  },
  {
   "cell_type": "code",
   "execution_count": 13,
   "id": "110b0a20",
   "metadata": {},
   "outputs": [
    {
     "name": "stdout",
     "output_type": "stream",
     "text": [
      "1/1 [==============================] - 0s 13ms/step - loss: 1.6096 - accuracy: 0.2000\n"
     ]
    },
    {
     "data": {
      "text/plain": [
       "[1.6095930337905884, 0.20000000298023224]"
      ]
     },
     "execution_count": 13,
     "metadata": {},
     "output_type": "execute_result"
    }
   ],
   "source": [
    "# Prediction de l'échantillon de test\n",
    "test_pred = model.predict(X_test)\n",
    "\n",
    "# Evaluation du modèle\n",
    "score = model.evaluate(X_test, y_test)\n",
    "score"
   ]
  },
  {
   "cell_type": "code",
   "execution_count": 14,
   "id": "399f659b",
   "metadata": {},
   "outputs": [
    {
     "name": "stdout",
     "output_type": "stream",
     "text": [
      "              precision    recall  f1-score   support\n",
      "\n",
      "           0       0.00      0.00      0.00         5\n",
      "           1       0.20      1.00      0.33         5\n",
      "           2       0.00      0.00      0.00         5\n",
      "           3       0.00      0.00      0.00         5\n",
      "           4       0.00      0.00      0.00         5\n",
      "\n",
      "    accuracy                           0.20        25\n",
      "   macro avg       0.04      0.20      0.07        25\n",
      "weighted avg       0.04      0.20      0.07        25\n",
      "\n"
     ]
    },
    {
     "name": "stderr",
     "output_type": "stream",
     "text": [
      "C:\\ProgramData\\Anaconda3\\lib\\site-packages\\sklearn\\metrics\\_classification.py:1318: UndefinedMetricWarning: Precision and F-score are ill-defined and being set to 0.0 in labels with no predicted samples. Use `zero_division` parameter to control this behavior.\n",
      "  _warn_prf(average, modifier, msg_start, len(result))\n",
      "C:\\ProgramData\\Anaconda3\\lib\\site-packages\\sklearn\\metrics\\_classification.py:1318: UndefinedMetricWarning: Precision and F-score are ill-defined and being set to 0.0 in labels with no predicted samples. Use `zero_division` parameter to control this behavior.\n",
      "  _warn_prf(average, modifier, msg_start, len(result))\n",
      "C:\\ProgramData\\Anaconda3\\lib\\site-packages\\sklearn\\metrics\\_classification.py:1318: UndefinedMetricWarning: Precision and F-score are ill-defined and being set to 0.0 in labels with no predicted samples. Use `zero_division` parameter to control this behavior.\n",
      "  _warn_prf(average, modifier, msg_start, len(result))\n"
     ]
    }
   ],
   "source": [
    "# prédiction des classes de l'échantillon X_test\n",
    "test_pred = model.predict(X_test)\n",
    "\n",
    "# vecteurs d'entiers correspondant aux classes prédites et réelles\n",
    "test_pred_class = test_pred.argmax(axis = 1)\n",
    "y_test_class = y_test.argmax(axis = 1)\n",
    "\n",
    "# compte-rendu évaluatif détaillé de la perfomance du modèle\n",
    "print(metrics.classification_report(y_test_class, test_pred_class))"
   ]
  },
  {
   "cell_type": "code",
   "execution_count": 17,
   "id": "86ffd2b0",
   "metadata": {},
   "outputs": [
    {
     "data": {
      "image/png": "[encoded data removed]",
      "text/plain": [
       "<Figure size 432x288 with 2 Axes>"
      ]
     },
     "metadata": {
      "needs_background": "light"
     },
     "output_type": "display_data"
    }
   ],
   "source": [
    "# Matrice de confusion\n",
    "\n",
    "classes = range(0,5)\n",
    "\n",
    "plt.figure()\n",
    "\n",
    "plt.imshow(cnf_matrix, interpolation='nearest',cmap='Blues')\n",
    "plt.title(\"Matrice de confusion\")\n",
    "plt.colorbar()\n",
    "tick_marks = np.arange(len(classes))\n",
    "plt.xticks(tick_marks, classes)\n",
    "plt.yticks(tick_marks, classes)\n",
    "\n",
    "for i, j in itertools.product(range(cnf_matrix.shape[0]), range(cnf_matrix.shape[1])):\n",
    "    plt.text(j, i, cnf_matrix[i, j],\n",
    "             horizontalalignment=\"center\",\n",
    "             color=\"white\" if cnf_matrix[i, j] > ( cnf_matrix.max() / 2) else \"black\")\n",
    "\n",
    "plt.ylabel('Vrais labels')\n",
    "plt.xlabel('Labels prédits')\n",
    "plt.show()"
   ]
  }
 ],
 "metadata": {
  "kernelspec": {
   "display_name": "Python 3",
   "language": "python",
   "name": "python3"
  },
  "language_info": {
   "codemirror_mode": {
    "name": "ipython",
    "version": 3
   },
   "file_extension": ".py",
   "mimetype": "text/x-python",
   "name": "python",
   "nbconvert_exporter": "python",
   "pygments_lexer": "ipython3",
   "version": "3.8.8"
  }
 },
 "nbformat": 4,
 "nbformat_minor": 5
}
