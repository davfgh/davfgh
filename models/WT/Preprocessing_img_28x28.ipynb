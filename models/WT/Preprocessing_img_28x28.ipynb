{
 "cells": [
  {
   "cell_type": "markdown",
   "id": "028c22bf",
   "metadata": {},
   "source": [
    "# Librairies et fichiers"
   ]
  },
  {
   "cell_type": "code",
   "execution_count": 1,
   "id": "eaf17b7d",
   "metadata": {},
   "outputs": [],
   "source": [
    "import numpy as np\n",
    "import pandas as pd\n",
    "\n",
    "import scipy\n",
    "from scipy import ndimage\n",
    "from scipy import signal\n",
    "from pylab import *\n",
    "import time\n",
    "from time import time\n",
    "import math\n",
    "import random \n",
    "\n",
    "import pywt\n",
    "import pywt.data\n",
    "\n",
    "import os\n",
    "\n",
    "from copy import deepcopy"
   ]
  },
  {
   "cell_type": "code",
   "execution_count": 2,
   "id": "414d814f",
   "metadata": {},
   "outputs": [],
   "source": [
    "mit_train = pd.read_csv('mitbih_train.csv', header = None)\n",
    "mit_test = pd.read_csv('mitbih_test.csv', header = None)\n",
    "\n",
    "ptbdb_normal = pd.read_csv('ptbdb_normal.csv', header=None)\n",
    "ptbdb_abnormal = pd.read_csv('ptbdb_abnormal.csv', header=None)\n",
    "\n",
    "# constitution du jeu concaténation des jeux de données initiaux\n",
    "ptbdb = pd.concat([ptbdb_normal, ptbdb_abnormal])\n",
    "mit = pd.concat([mit_train, mit_test])"
   ]
  },
  {
   "cell_type": "code",
   "execution_count": 3,
   "id": "72157afa",
   "metadata": {},
   "outputs": [],
   "source": [
    "X_ptb = ptbdb.iloc[:,:-1]\n",
    "X_test = mit_test.iloc[:,:-1]\n",
    "X_train = mit_train.iloc[:,:-1]\n",
    "y_ptb = ptbdb.iloc[:,-1]\n",
    "y_test = mit_test.iloc[:,-1]\n",
    "y_train = mit_train.iloc[:,-1]"
   ]
  },
  {
   "cell_type": "code",
   "execution_count": null,
   "id": "9542a4f2",
   "metadata": {},
   "outputs": [],
   "source": [
    "targets = mit_train.iloc[:,-1]\n",
    "for elem in targets :\n",
    "    targets[elem]=int(targets[elem])"
   ]
  },
  {
   "cell_type": "code",
   "execution_count": 56,
   "id": "76fcfff3",
   "metadata": {},
   "outputs": [
    {
     "ename": "AttributeError",
     "evalue": "'Series' object has no attribute 'values_count'",
     "output_type": "error",
     "traceback": [
      "\u001b[1;31m---------------------------------------------------------------------------\u001b[0m",
      "\u001b[1;31mAttributeError\u001b[0m                            Traceback (most recent call last)",
      "\u001b[1;32m<ipython-input-56-77a66558d3c5>\u001b[0m in \u001b[0;36m<module>\u001b[1;34m\u001b[0m\n\u001b[1;32m----> 1\u001b[1;33m \u001b[0mtargets\u001b[0m\u001b[1;33m.\u001b[0m\u001b[0mvalues_count\u001b[0m\u001b[1;33m(\u001b[0m\u001b[1;33m)\u001b[0m\u001b[1;33m\u001b[0m\u001b[1;33m\u001b[0m\u001b[0m\n\u001b[0m",
      "\u001b[1;32mC:\\ProgramData\\Anaconda3\\lib\\site-packages\\pandas\\core\\generic.py\u001b[0m in \u001b[0;36m__getattr__\u001b[1;34m(self, name)\u001b[0m\n\u001b[0;32m   5463\u001b[0m             \u001b[1;32mif\u001b[0m \u001b[0mself\u001b[0m\u001b[1;33m.\u001b[0m\u001b[0m_info_axis\u001b[0m\u001b[1;33m.\u001b[0m\u001b[0m_can_hold_identifiers_and_holds_name\u001b[0m\u001b[1;33m(\u001b[0m\u001b[0mname\u001b[0m\u001b[1;33m)\u001b[0m\u001b[1;33m:\u001b[0m\u001b[1;33m\u001b[0m\u001b[1;33m\u001b[0m\u001b[0m\n\u001b[0;32m   5464\u001b[0m                 \u001b[1;32mreturn\u001b[0m \u001b[0mself\u001b[0m\u001b[1;33m[\u001b[0m\u001b[0mname\u001b[0m\u001b[1;33m]\u001b[0m\u001b[1;33m\u001b[0m\u001b[1;33m\u001b[0m\u001b[0m\n\u001b[1;32m-> 5465\u001b[1;33m             \u001b[1;32mreturn\u001b[0m \u001b[0mobject\u001b[0m\u001b[1;33m.\u001b[0m\u001b[0m__getattribute__\u001b[0m\u001b[1;33m(\u001b[0m\u001b[0mself\u001b[0m\u001b[1;33m,\u001b[0m \u001b[0mname\u001b[0m\u001b[1;33m)\u001b[0m\u001b[1;33m\u001b[0m\u001b[1;33m\u001b[0m\u001b[0m\n\u001b[0m\u001b[0;32m   5466\u001b[0m \u001b[1;33m\u001b[0m\u001b[0m\n\u001b[0;32m   5467\u001b[0m     \u001b[1;32mdef\u001b[0m \u001b[0m__setattr__\u001b[0m\u001b[1;33m(\u001b[0m\u001b[0mself\u001b[0m\u001b[1;33m,\u001b[0m \u001b[0mname\u001b[0m\u001b[1;33m:\u001b[0m \u001b[0mstr\u001b[0m\u001b[1;33m,\u001b[0m \u001b[0mvalue\u001b[0m\u001b[1;33m)\u001b[0m \u001b[1;33m->\u001b[0m \u001b[1;32mNone\u001b[0m\u001b[1;33m:\u001b[0m\u001b[1;33m\u001b[0m\u001b[1;33m\u001b[0m\u001b[0m\n",
      "\u001b[1;31mAttributeError\u001b[0m: 'Series' object has no attribute 'values_count'"
     ]
    }
   ],
   "source": [
    "targets.values_count()"
   ]
  },
  {
   "cell_type": "markdown",
   "id": "6ebc7503",
   "metadata": {},
   "source": [
    "# Fonctions"
   ]
  },
  {
   "cell_type": "code",
   "execution_count": null,
   "id": "ecdd0289",
   "metadata": {},
   "outputs": [],
   "source": [
    "# liste du nombre de lignes associées à chaque item des dataframe\n",
    "def l_dim (signaux) :\n",
    "    # prend en entrée un dataframe\n",
    "    # retourne la liste du nombre d'élement pour chaque cible du dataframe\n",
    "    "
   ]
  },
  {
   "cell_type": "code",
   "execution_count": 4,
   "id": "ebbc5593",
   "metadata": {},
   "outputs": [],
   "source": [
    "#isoler le dataframe signaux : suprimer les autres colonnes...\n",
    "\n",
    "def get_cwt_line (signaux, scale, wave, line):\n",
    "    # prend en entrée le jeu de données, une valeur d'échelle, un type d'ondelettes continues et une classe de signaux\n",
    "    # renvoie une matrice de wavelett continues correpondant à l'entrée numéro line\n",
    "    # attention, la dernière ligne de signaux contient le target\n",
    "    m=signaux.shape[1] # nombre de col\n",
    "    widths = np.arange(1,scale+1) # définie un intervalle à partir de l'échelle\n",
    "    cwtmatr, freqs = pywt.cwt(signaux, widths, wave)\n",
    "    return (signaux.iloc[line,:],freqs, cwtmatr[:,line,:-1])"
   ]
  },
  {
   "cell_type": "code",
   "execution_count": 5,
   "id": "7a058388",
   "metadata": {},
   "outputs": [],
   "source": [
    "def redim_array (original_array, width, height) :\n",
    "    # prend en entrée un array avec les des  dims avec lesquelles ont veut le redimentionner\n",
    "    # renvoie l'array redimentionné\n",
    "\n",
    "#    original_array = matr\n",
    " #   width , height = 28, 28\n",
    "    resize_array = np.zeros(shape=(width,height))\n",
    "\n",
    "    for W in range(width):\n",
    "        for H in range(height):\n",
    "            new_width = int( W * original_array.shape[0] / width )\n",
    "            new_height = int( H * original_array.shape[1] / height )\n",
    "            resize_array[W][H] = original_array[new_width][new_height]\n",
    "\n",
    "    return(resize_array)"
   ]
  },
  {
   "cell_type": "markdown",
   "id": "f91bf992",
   "metadata": {},
   "source": [
    "# Selection des paramètres"
   ]
  },
  {
   "cell_type": "code",
   "execution_count": 6,
   "id": "195a2e5a",
   "metadata": {
    "scrolled": false
   },
   "outputs": [
    {
     "name": "stdout",
     "output_type": "stream",
     "text": [
      "['cgau1', 'cgau2', 'cgau3', 'cgau4', 'cgau5', 'cgau6', 'cgau7', 'cgau8', 'cmor', 'fbsp', 'gaus1', 'gaus2', 'gaus3', 'gaus4', 'gaus5', 'gaus6', 'gaus7', 'gaus8', 'mexh', 'morl', 'shan']\n"
     ]
    }
   ],
   "source": [
    "scale = 28 # échelle faible pour limiter le temps de calcul\n",
    "cw_type = 'mexh' # type d'ondelettes continues séléctionnable parmi la liste ci-dessous\n",
    "\n",
    "print(pywt.wavelist(kind='continuous'))"
   ]
  },
  {
   "cell_type": "markdown",
   "id": "7e209e0d",
   "metadata": {},
   "source": [
    "# Pre-Processing"
   ]
  },
  {
   "cell_type": "code",
   "execution_count": 7,
   "id": "29bb05b0",
   "metadata": {},
   "outputs": [],
   "source": [
    "h = scale # pour avoir des images carrées qui puissent tourner dans les algorihmes CNN"
   ]
  },
  {
   "cell_type": "code",
   "execution_count": 8,
   "id": "e6cc8a67",
   "metadata": {},
   "outputs": [],
   "source": [
    "t0 = time()\n",
    "\n",
    "iMax = 641 # pour chaque valeur de cible \n",
    "train_len = iMax * 5\n",
    "#iMax=len(data_brut), il faudra trouver la valeur limite correcte pour toutes les valeurs de k\n",
    "n=5 #  5 vals possible pour target avec le fichier mit\n",
    "\n",
    "width , height = scale, h #: dimension de l'image\n",
    "col = range(0, width*height+1)\n",
    "data_pre_ana = pd.DataFrame(columns = col)\n",
    "for k in range(0,n) :\n",
    " #   print(k)\n",
    "    data_brut = mit_train[mit_train.iloc[:,-1]==k] # DataFrame d'entrée # DataFrame d'entrée\n",
    "    signaux=data_brut.iloc[:,:-1]  # Selectionner la partie signaux de 0 à 186 \n",
    "\n",
    "    #Boucle sur les lignes de data_brut\n",
    "    for i in range(0, iMax) :\n",
    "  #      print(i)\n",
    "        #Traiter par ondelette le signal (fonction get_cwt)\n",
    "        sig, freq, matr = get_cwt_line (signaux, scale, cw_type, i)\n",
    "        \n",
    "        #Traiter la matrice pour l'inclure dans l'array de taille prédéfinie adaptée au code CNN \n",
    "        original_array = matr\n",
    "       # print(matr)\n",
    "        matr=redim_array(original_array, width, height)\n",
    "        matr_1D = matr.flatten()  # on transforme l amatrice en array 1D \n",
    "        \n",
    "        # ajouter y à la fin de matr_1D, \n",
    "       # print(data_brut.shape[1])\n",
    "        y = data_brut.iloc[i,data_brut.shape[1]-1]\n",
    "        matr_y = np.append(matr_1D, y)\n",
    "        \n",
    "        # Enregistrer dans data_pre_ana\n",
    "        a_series = pd.Series(matr_y)\n",
    "        data_pre_ana = data_pre_ana.append(a_series, ignore_index=True)\n",
    "        \n",
    "t1 = time() - t0\n",
    "print(\"Réalisé en {} secondes\".format(round(t1,3)))"
   ]
  },
  {
   "cell_type": "code",
   "execution_count": 9,
   "id": "cf316c07",
   "metadata": {},
   "outputs": [
    {
     "name": "stdout",
     "output_type": "stream",
     "text": [
      "Fichier cwt_28x28x125_mexh_train.csv crée\n"
     ]
    }
   ],
   "source": [
    "nomFicTrain = 'cwt_{}x{}x{}_{}_train.csv'.format(scale, h, train_len, cw_type)\n",
    "data_pre_ana.to_csv(nomFicTrain)\n",
    "print('Fichier',nomFicTrain,'crée')"
   ]
  },
  {
   "cell_type": "code",
   "execution_count": 10,
   "id": "e2a0347c",
   "metadata": {
    "scrolled": true
   },
   "outputs": [
    {
     "name": "stdout",
     "output_type": "stream",
     "text": [
      "Shape of X: (125, 784)\n",
      "Shape of y: (125,)\n"
     ]
    }
   ],
   "source": [
    "X_train = data_pre_ana.iloc[:,:-1]\n",
    "y_train = data_pre_ana.iloc[:,-1]\n",
    "\n",
    "# Shape of X_train and y_train\n",
    "print('Shape of X:', X_train.shape)\n",
    "print('Shape of y:', y_train.shape)"
   ]
  },
  {
   "cell_type": "code",
   "execution_count": 11,
   "id": "16665e23",
   "metadata": {},
   "outputs": [],
   "source": [
    "test_size = 0.3"
   ]
  },
  {
   "cell_type": "code",
   "execution_count": 18,
   "id": "9f188358",
   "metadata": {},
   "outputs": [
    {
     "ename": "KeyboardInterrupt",
     "evalue": "",
     "output_type": "error",
     "traceback": [
      "\u001b[1;31m---------------------------------------------------------------------------\u001b[0m",
      "\u001b[1;31mKeyboardInterrupt\u001b[0m                         Traceback (most recent call last)",
      "\u001b[1;32m<ipython-input-18-67900db21b82>\u001b[0m in \u001b[0;36m<module>\u001b[1;34m\u001b[0m\n\u001b[0;32m     19\u001b[0m   \u001b[1;31m#      print(i)\u001b[0m\u001b[1;33m\u001b[0m\u001b[1;33m\u001b[0m\u001b[1;33m\u001b[0m\u001b[0m\n\u001b[0;32m     20\u001b[0m         \u001b[1;31m#Traiter par ondelette le signal (fonction get_cwt)\u001b[0m\u001b[1;33m\u001b[0m\u001b[1;33m\u001b[0m\u001b[1;33m\u001b[0m\u001b[0m\n\u001b[1;32m---> 21\u001b[1;33m         \u001b[0msig\u001b[0m\u001b[1;33m,\u001b[0m \u001b[0mfreq\u001b[0m\u001b[1;33m,\u001b[0m \u001b[0mmatr\u001b[0m \u001b[1;33m=\u001b[0m \u001b[0mget_cwt_line\u001b[0m \u001b[1;33m(\u001b[0m\u001b[0msignaux\u001b[0m\u001b[1;33m,\u001b[0m \u001b[0mscale\u001b[0m\u001b[1;33m,\u001b[0m \u001b[0mcw_type\u001b[0m\u001b[1;33m,\u001b[0m \u001b[0mi\u001b[0m\u001b[1;33m)\u001b[0m\u001b[1;33m\u001b[0m\u001b[1;33m\u001b[0m\u001b[0m\n\u001b[0m\u001b[0;32m     22\u001b[0m \u001b[1;33m\u001b[0m\u001b[0m\n\u001b[0;32m     23\u001b[0m         \u001b[1;31m#Traiter la matrice pour l'inclure dans l'array de taille prédéfinie adaptée au code CNN\u001b[0m\u001b[1;33m\u001b[0m\u001b[1;33m\u001b[0m\u001b[1;33m\u001b[0m\u001b[0m\n",
      "\u001b[1;32m<ipython-input-4-2b729036a640>\u001b[0m in \u001b[0;36mget_cwt_line\u001b[1;34m(signaux, scale, wave, line)\u001b[0m\n\u001b[0;32m      7\u001b[0m     \u001b[0mm\u001b[0m\u001b[1;33m=\u001b[0m\u001b[0msignaux\u001b[0m\u001b[1;33m.\u001b[0m\u001b[0mshape\u001b[0m\u001b[1;33m[\u001b[0m\u001b[1;36m1\u001b[0m\u001b[1;33m]\u001b[0m \u001b[1;31m# nombre de col\u001b[0m\u001b[1;33m\u001b[0m\u001b[1;33m\u001b[0m\u001b[0m\n\u001b[0;32m      8\u001b[0m     \u001b[0mwidths\u001b[0m \u001b[1;33m=\u001b[0m \u001b[0mnp\u001b[0m\u001b[1;33m.\u001b[0m\u001b[0marange\u001b[0m\u001b[1;33m(\u001b[0m\u001b[1;36m1\u001b[0m\u001b[1;33m,\u001b[0m\u001b[0mscale\u001b[0m\u001b[1;33m+\u001b[0m\u001b[1;36m1\u001b[0m\u001b[1;33m)\u001b[0m \u001b[1;31m# définie un intervalle à partir de l'échelle\u001b[0m\u001b[1;33m\u001b[0m\u001b[1;33m\u001b[0m\u001b[0m\n\u001b[1;32m----> 9\u001b[1;33m     \u001b[0mcwtmatr\u001b[0m\u001b[1;33m,\u001b[0m \u001b[0mfreqs\u001b[0m \u001b[1;33m=\u001b[0m \u001b[0mpywt\u001b[0m\u001b[1;33m.\u001b[0m\u001b[0mcwt\u001b[0m\u001b[1;33m(\u001b[0m\u001b[0msignaux\u001b[0m\u001b[1;33m,\u001b[0m \u001b[0mwidths\u001b[0m\u001b[1;33m,\u001b[0m \u001b[0mwave\u001b[0m\u001b[1;33m)\u001b[0m\u001b[1;33m\u001b[0m\u001b[1;33m\u001b[0m\u001b[0m\n\u001b[0m\u001b[0;32m     10\u001b[0m     \u001b[1;32mreturn\u001b[0m \u001b[1;33m(\u001b[0m\u001b[0msignaux\u001b[0m\u001b[1;33m.\u001b[0m\u001b[0miloc\u001b[0m\u001b[1;33m[\u001b[0m\u001b[0mline\u001b[0m\u001b[1;33m,\u001b[0m\u001b[1;33m:\u001b[0m\u001b[1;33m]\u001b[0m\u001b[1;33m,\u001b[0m\u001b[0mfreqs\u001b[0m\u001b[1;33m,\u001b[0m \u001b[0mcwtmatr\u001b[0m\u001b[1;33m[\u001b[0m\u001b[1;33m:\u001b[0m\u001b[1;33m,\u001b[0m\u001b[0mline\u001b[0m\u001b[1;33m,\u001b[0m\u001b[1;33m:\u001b[0m\u001b[1;33m-\u001b[0m\u001b[1;36m1\u001b[0m\u001b[1;33m]\u001b[0m\u001b[1;33m)\u001b[0m\u001b[1;33m\u001b[0m\u001b[1;33m\u001b[0m\u001b[0m\n",
      "\u001b[1;32mC:\\ProgramData\\Anaconda3\\lib\\site-packages\\pywt\\_cwt.py\u001b[0m in \u001b[0;36mcwt\u001b[1;34m(data, scales, wavelet, sampling_period, method, axis)\u001b[0m\n\u001b[0;32m    164\u001b[0m                 \u001b[0mconv\u001b[0m \u001b[1;33m=\u001b[0m \u001b[0mnp\u001b[0m\u001b[1;33m.\u001b[0m\u001b[0mempty\u001b[0m\u001b[1;33m(\u001b[0m\u001b[0mconv_shape\u001b[0m\u001b[1;33m,\u001b[0m \u001b[0mdtype\u001b[0m\u001b[1;33m=\u001b[0m\u001b[0mdt_out\u001b[0m\u001b[1;33m)\u001b[0m\u001b[1;33m\u001b[0m\u001b[1;33m\u001b[0m\u001b[0m\n\u001b[0;32m    165\u001b[0m                 \u001b[1;32mfor\u001b[0m \u001b[0mn\u001b[0m \u001b[1;32min\u001b[0m \u001b[0mrange\u001b[0m\u001b[1;33m(\u001b[0m\u001b[0mdata\u001b[0m\u001b[1;33m.\u001b[0m\u001b[0mshape\u001b[0m\u001b[1;33m[\u001b[0m\u001b[1;36m0\u001b[0m\u001b[1;33m]\u001b[0m\u001b[1;33m)\u001b[0m\u001b[1;33m:\u001b[0m\u001b[1;33m\u001b[0m\u001b[1;33m\u001b[0m\u001b[0m\n\u001b[1;32m--> 166\u001b[1;33m                     \u001b[0mconv\u001b[0m\u001b[1;33m[\u001b[0m\u001b[0mn\u001b[0m\u001b[1;33m,\u001b[0m \u001b[1;33m:\u001b[0m\u001b[1;33m]\u001b[0m \u001b[1;33m=\u001b[0m \u001b[0mnp\u001b[0m\u001b[1;33m.\u001b[0m\u001b[0mconvolve\u001b[0m\u001b[1;33m(\u001b[0m\u001b[0mdata\u001b[0m\u001b[1;33m[\u001b[0m\u001b[0mn\u001b[0m\u001b[1;33m]\u001b[0m\u001b[1;33m,\u001b[0m \u001b[0mint_psi_scale\u001b[0m\u001b[1;33m)\u001b[0m\u001b[1;33m\u001b[0m\u001b[1;33m\u001b[0m\u001b[0m\n\u001b[0m\u001b[0;32m    167\u001b[0m         \u001b[1;32melse\u001b[0m\u001b[1;33m:\u001b[0m\u001b[1;33m\u001b[0m\u001b[1;33m\u001b[0m\u001b[0m\n\u001b[0;32m    168\u001b[0m             \u001b[1;31m# The padding is selected for:\u001b[0m\u001b[1;33m\u001b[0m\u001b[1;33m\u001b[0m\u001b[1;33m\u001b[0m\u001b[0m\n",
      "\u001b[1;32m<__array_function__ internals>\u001b[0m in \u001b[0;36mconvolve\u001b[1;34m(*args, **kwargs)\u001b[0m\n",
      "\u001b[1;32mC:\\ProgramData\\Anaconda3\\lib\\site-packages\\numpy\\core\\numeric.py\u001b[0m in \u001b[0;36mconvolve\u001b[1;34m(a, v, mode)\u001b[0m\n\u001b[0;32m    848\u001b[0m         \u001b[1;32mraise\u001b[0m \u001b[0mValueError\u001b[0m\u001b[1;33m(\u001b[0m\u001b[1;34m'v cannot be empty'\u001b[0m\u001b[1;33m)\u001b[0m\u001b[1;33m\u001b[0m\u001b[1;33m\u001b[0m\u001b[0m\n\u001b[0;32m    849\u001b[0m     \u001b[0mmode\u001b[0m \u001b[1;33m=\u001b[0m \u001b[0m_mode_from_name\u001b[0m\u001b[1;33m(\u001b[0m\u001b[0mmode\u001b[0m\u001b[1;33m)\u001b[0m\u001b[1;33m\u001b[0m\u001b[1;33m\u001b[0m\u001b[0m\n\u001b[1;32m--> 850\u001b[1;33m     \u001b[1;32mreturn\u001b[0m \u001b[0mmultiarray\u001b[0m\u001b[1;33m.\u001b[0m\u001b[0mcorrelate\u001b[0m\u001b[1;33m(\u001b[0m\u001b[0ma\u001b[0m\u001b[1;33m,\u001b[0m \u001b[0mv\u001b[0m\u001b[1;33m[\u001b[0m\u001b[1;33m:\u001b[0m\u001b[1;33m:\u001b[0m\u001b[1;33m-\u001b[0m\u001b[1;36m1\u001b[0m\u001b[1;33m]\u001b[0m\u001b[1;33m,\u001b[0m \u001b[0mmode\u001b[0m\u001b[1;33m)\u001b[0m\u001b[1;33m\u001b[0m\u001b[1;33m\u001b[0m\u001b[0m\n\u001b[0m\u001b[0;32m    851\u001b[0m \u001b[1;33m\u001b[0m\u001b[0m\n\u001b[0;32m    852\u001b[0m \u001b[1;33m\u001b[0m\u001b[0m\n",
      "\u001b[1;31mKeyboardInterrupt\u001b[0m: "
     ]
    }
   ],
   "source": [
    "t0 = time()\n",
    "\n",
    "iMax = int(iMax*test_size)\n",
    "test_len = iMax * 5\n",
    "#iMax=len(data_brut), il faudra trouver la valeur limite correcte pour toutes les valeurs de k\n",
    "n=5 #  5 vals possible pour target\n",
    "#prépparer le dataframe pour les résultats\n",
    "\n",
    "width , height = scale, h #: dimension de l'image\n",
    "col = range(0, width*height+1)\n",
    "data_pre_ana = pd.DataFrame(columns = col)\n",
    "for k in range(0,n) :\n",
    " #   print(k)\n",
    "    data_brut = mit_test[mit_test.iloc[:,-1]==k] # DataFrame d'entrée # DataFrame d'entrée\n",
    "    signaux=data_brut.iloc[:,:-1]  # Selectionner la partie signaux de 0 à 186 \n",
    "\n",
    "    #Boucle sur les lignes de data_brut\n",
    "    for i in range(0, iMax) :\n",
    "  #      print(i)\n",
    "        #Traiter par ondelette le signal (fonction get_cwt)\n",
    "        sig, freq, matr = get_cwt_line (signaux, scale, cw_type, i)\n",
    "        \n",
    "        #Traiter la matrice pour l'inclure dans l'array de taille prédéfinie adaptée au code CNN \n",
    "        original_array = matr\n",
    "       # print(matr)\n",
    "        matr=redim_array(original_array, width, height)\n",
    "        matr_1D = matr.flatten()  # on transforme l amatrice en array 1D \n",
    "        \n",
    "        # ajouter y à la fin de matr_1D, \n",
    "       # print(data_brut.shape[1])\n",
    "        y = data_brut.iloc[i,data_brut.shape[1]-1]\n",
    "        matr_y = np.append(matr_1D, y)\n",
    "        \n",
    "        # Enregistrer dans data_pre_ana\n",
    "        a_series = pd.Series(matr_y)\n",
    "        data_pre_ana = data_pre_ana.append(a_series, ignore_index=True)\n",
    "        \n",
    "t1 = time() - t0\n",
    "print(\"Réalisé en {} secondes\".format(round(t1,3)))"
   ]
  },
  {
   "cell_type": "code",
   "execution_count": 13,
   "id": "06d94c83",
   "metadata": {},
   "outputs": [
    {
     "name": "stdout",
     "output_type": "stream",
     "text": [
      "Fichier cwt_28x28x35_mexh_test.csv crée\n"
     ]
    }
   ],
   "source": [
    "nomFicTest = 'cwt_{}x{}x{}_{}_test.csv'.format(scale, h, test_len, cw_type)\n",
    "data_pre_ana.to_csv(nomFicTest)\n",
    "print('Fichier',nomFicTest,'crée')"
   ]
  },
  {
   "cell_type": "code",
   "execution_count": 15,
   "id": "394958f0",
   "metadata": {},
   "outputs": [
    {
     "name": "stdout",
     "output_type": "stream",
     "text": [
      "Shape of X: (0, 784)\n",
      "Shape of y: (0,)\n"
     ]
    }
   ],
   "source": [
    "X_test = data_pre_ana.iloc[:,:-1]\n",
    "y_test = data_pre_ana.iloc[:,-1]\n",
    "\n",
    "# Shape of X_test and y_test\n",
    "print('Shape of X:', X_test.shape)\n",
    "print('Shape of y:', y_test.shape)"
   ]
  }
 ],
 "metadata": {
  "kernelspec": {
   "display_name": "Python 3",
   "language": "python",
   "name": "python3"
  },
  "language_info": {
   "codemirror_mode": {
    "name": "ipython",
    "version": 3
   },
   "file_extension": ".py",
   "mimetype": "text/x-python",
   "name": "python",
   "nbconvert_exporter": "python",
   "pygments_lexer": "ipython3",
   "version": "3.8.8"
  }
 },
 "nbformat": 4,
 "nbformat_minor": 5
}
